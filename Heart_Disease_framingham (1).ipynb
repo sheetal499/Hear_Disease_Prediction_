{
  "nbformat": 4,
  "nbformat_minor": 0,
  "metadata": {
    "colab": {
      "provenance": []
    },
    "kernelspec": {
      "name": "python3",
      "display_name": "Python 3"
    },
    "language_info": {
      "name": "python"
    }
  },
  "cells": [
    {
      "cell_type": "code",
      "execution_count": null,
      "metadata": {
        "id": "jxaPnlEZ9Hgq"
      },
      "outputs": [],
      "source": [
        "import pandas as pd\n",
        "import numpy as np\n",
        "import matplotlib.pyplot as plt\n",
        "%matplotlib inline"
      ]
    },
    {
      "cell_type": "code",
      "source": [
        "data=pd.read_csv(\"/content/framingham_heart_disease.csv\")"
      ],
      "metadata": {
        "id": "N6NXMWBg9-WF"
      },
      "execution_count": null,
      "outputs": []
    },
    {
      "cell_type": "code",
      "source": [
        "data.head()"
      ],
      "metadata": {
        "colab": {
          "base_uri": "https://localhost:8080/",
          "height": 270
        },
        "id": "DWyw6_av-Ha8",
        "outputId": "c95e500b-075e-4916-9d01-c3381ee0f18b"
      },
      "execution_count": null,
      "outputs": [
        {
          "output_type": "execute_result",
          "data": {
            "text/plain": [
              "   male  age  education  currentSmoker  cigsPerDay  BPMeds  prevalentStroke  \\\n",
              "0     1   39        4.0              0         0.0     0.0                0   \n",
              "1     0   46        2.0              0         0.0     0.0                0   \n",
              "2     1   48        1.0              1        20.0     0.0                0   \n",
              "3     0   61        3.0              1        30.0     0.0                0   \n",
              "4     0   46        3.0              1        23.0     0.0                0   \n",
              "\n",
              "   prevalentHyp  diabetes  totChol  sysBP  diaBP    BMI  heartRate  glucose  \\\n",
              "0             0         0    195.0  106.0   70.0  26.97       80.0     77.0   \n",
              "1             0         0    250.0  121.0   81.0  28.73       95.0     76.0   \n",
              "2             0         0    245.0  127.5   80.0  25.34       75.0     70.0   \n",
              "3             1         0    225.0  150.0   95.0  28.58       65.0    103.0   \n",
              "4             0         0    285.0  130.0   84.0  23.10       85.0     85.0   \n",
              "\n",
              "   TenYearCHD  \n",
              "0           0  \n",
              "1           0  \n",
              "2           0  \n",
              "3           1  \n",
              "4           0  "
            ],
            "text/html": [
              "\n",
              "  <div id=\"df-2c65ca59-6a26-4f33-bcdd-7b14cd1313bb\">\n",
              "    <div class=\"colab-df-container\">\n",
              "      <div>\n",
              "<style scoped>\n",
              "    .dataframe tbody tr th:only-of-type {\n",
              "        vertical-align: middle;\n",
              "    }\n",
              "\n",
              "    .dataframe tbody tr th {\n",
              "        vertical-align: top;\n",
              "    }\n",
              "\n",
              "    .dataframe thead th {\n",
              "        text-align: right;\n",
              "    }\n",
              "</style>\n",
              "<table border=\"1\" class=\"dataframe\">\n",
              "  <thead>\n",
              "    <tr style=\"text-align: right;\">\n",
              "      <th></th>\n",
              "      <th>male</th>\n",
              "      <th>age</th>\n",
              "      <th>education</th>\n",
              "      <th>currentSmoker</th>\n",
              "      <th>cigsPerDay</th>\n",
              "      <th>BPMeds</th>\n",
              "      <th>prevalentStroke</th>\n",
              "      <th>prevalentHyp</th>\n",
              "      <th>diabetes</th>\n",
              "      <th>totChol</th>\n",
              "      <th>sysBP</th>\n",
              "      <th>diaBP</th>\n",
              "      <th>BMI</th>\n",
              "      <th>heartRate</th>\n",
              "      <th>glucose</th>\n",
              "      <th>TenYearCHD</th>\n",
              "    </tr>\n",
              "  </thead>\n",
              "  <tbody>\n",
              "    <tr>\n",
              "      <th>0</th>\n",
              "      <td>1</td>\n",
              "      <td>39</td>\n",
              "      <td>4.0</td>\n",
              "      <td>0</td>\n",
              "      <td>0.0</td>\n",
              "      <td>0.0</td>\n",
              "      <td>0</td>\n",
              "      <td>0</td>\n",
              "      <td>0</td>\n",
              "      <td>195.0</td>\n",
              "      <td>106.0</td>\n",
              "      <td>70.0</td>\n",
              "      <td>26.97</td>\n",
              "      <td>80.0</td>\n",
              "      <td>77.0</td>\n",
              "      <td>0</td>\n",
              "    </tr>\n",
              "    <tr>\n",
              "      <th>1</th>\n",
              "      <td>0</td>\n",
              "      <td>46</td>\n",
              "      <td>2.0</td>\n",
              "      <td>0</td>\n",
              "      <td>0.0</td>\n",
              "      <td>0.0</td>\n",
              "      <td>0</td>\n",
              "      <td>0</td>\n",
              "      <td>0</td>\n",
              "      <td>250.0</td>\n",
              "      <td>121.0</td>\n",
              "      <td>81.0</td>\n",
              "      <td>28.73</td>\n",
              "      <td>95.0</td>\n",
              "      <td>76.0</td>\n",
              "      <td>0</td>\n",
              "    </tr>\n",
              "    <tr>\n",
              "      <th>2</th>\n",
              "      <td>1</td>\n",
              "      <td>48</td>\n",
              "      <td>1.0</td>\n",
              "      <td>1</td>\n",
              "      <td>20.0</td>\n",
              "      <td>0.0</td>\n",
              "      <td>0</td>\n",
              "      <td>0</td>\n",
              "      <td>0</td>\n",
              "      <td>245.0</td>\n",
              "      <td>127.5</td>\n",
              "      <td>80.0</td>\n",
              "      <td>25.34</td>\n",
              "      <td>75.0</td>\n",
              "      <td>70.0</td>\n",
              "      <td>0</td>\n",
              "    </tr>\n",
              "    <tr>\n",
              "      <th>3</th>\n",
              "      <td>0</td>\n",
              "      <td>61</td>\n",
              "      <td>3.0</td>\n",
              "      <td>1</td>\n",
              "      <td>30.0</td>\n",
              "      <td>0.0</td>\n",
              "      <td>0</td>\n",
              "      <td>1</td>\n",
              "      <td>0</td>\n",
              "      <td>225.0</td>\n",
              "      <td>150.0</td>\n",
              "      <td>95.0</td>\n",
              "      <td>28.58</td>\n",
              "      <td>65.0</td>\n",
              "      <td>103.0</td>\n",
              "      <td>1</td>\n",
              "    </tr>\n",
              "    <tr>\n",
              "      <th>4</th>\n",
              "      <td>0</td>\n",
              "      <td>46</td>\n",
              "      <td>3.0</td>\n",
              "      <td>1</td>\n",
              "      <td>23.0</td>\n",
              "      <td>0.0</td>\n",
              "      <td>0</td>\n",
              "      <td>0</td>\n",
              "      <td>0</td>\n",
              "      <td>285.0</td>\n",
              "      <td>130.0</td>\n",
              "      <td>84.0</td>\n",
              "      <td>23.10</td>\n",
              "      <td>85.0</td>\n",
              "      <td>85.0</td>\n",
              "      <td>0</td>\n",
              "    </tr>\n",
              "  </tbody>\n",
              "</table>\n",
              "</div>\n",
              "      <button class=\"colab-df-convert\" onclick=\"convertToInteractive('df-2c65ca59-6a26-4f33-bcdd-7b14cd1313bb')\"\n",
              "              title=\"Convert this dataframe to an interactive table.\"\n",
              "              style=\"display:none;\">\n",
              "        \n",
              "  <svg xmlns=\"http://www.w3.org/2000/svg\" height=\"24px\"viewBox=\"0 0 24 24\"\n",
              "       width=\"24px\">\n",
              "    <path d=\"M0 0h24v24H0V0z\" fill=\"none\"/>\n",
              "    <path d=\"M18.56 5.44l.94 2.06.94-2.06 2.06-.94-2.06-.94-.94-2.06-.94 2.06-2.06.94zm-11 1L8.5 8.5l.94-2.06 2.06-.94-2.06-.94L8.5 2.5l-.94 2.06-2.06.94zm10 10l.94 2.06.94-2.06 2.06-.94-2.06-.94-.94-2.06-.94 2.06-2.06.94z\"/><path d=\"M17.41 7.96l-1.37-1.37c-.4-.4-.92-.59-1.43-.59-.52 0-1.04.2-1.43.59L10.3 9.45l-7.72 7.72c-.78.78-.78 2.05 0 2.83L4 21.41c.39.39.9.59 1.41.59.51 0 1.02-.2 1.41-.59l7.78-7.78 2.81-2.81c.8-.78.8-2.07 0-2.86zM5.41 20L4 18.59l7.72-7.72 1.47 1.35L5.41 20z\"/>\n",
              "  </svg>\n",
              "      </button>\n",
              "      \n",
              "  <style>\n",
              "    .colab-df-container {\n",
              "      display:flex;\n",
              "      flex-wrap:wrap;\n",
              "      gap: 12px;\n",
              "    }\n",
              "\n",
              "    .colab-df-convert {\n",
              "      background-color: #E8F0FE;\n",
              "      border: none;\n",
              "      border-radius: 50%;\n",
              "      cursor: pointer;\n",
              "      display: none;\n",
              "      fill: #1967D2;\n",
              "      height: 32px;\n",
              "      padding: 0 0 0 0;\n",
              "      width: 32px;\n",
              "    }\n",
              "\n",
              "    .colab-df-convert:hover {\n",
              "      background-color: #E2EBFA;\n",
              "      box-shadow: 0px 1px 2px rgba(60, 64, 67, 0.3), 0px 1px 3px 1px rgba(60, 64, 67, 0.15);\n",
              "      fill: #174EA6;\n",
              "    }\n",
              "\n",
              "    [theme=dark] .colab-df-convert {\n",
              "      background-color: #3B4455;\n",
              "      fill: #D2E3FC;\n",
              "    }\n",
              "\n",
              "    [theme=dark] .colab-df-convert:hover {\n",
              "      background-color: #434B5C;\n",
              "      box-shadow: 0px 1px 3px 1px rgba(0, 0, 0, 0.15);\n",
              "      filter: drop-shadow(0px 1px 2px rgba(0, 0, 0, 0.3));\n",
              "      fill: #FFFFFF;\n",
              "    }\n",
              "  </style>\n",
              "\n",
              "      <script>\n",
              "        const buttonEl =\n",
              "          document.querySelector('#df-2c65ca59-6a26-4f33-bcdd-7b14cd1313bb button.colab-df-convert');\n",
              "        buttonEl.style.display =\n",
              "          google.colab.kernel.accessAllowed ? 'block' : 'none';\n",
              "\n",
              "        async function convertToInteractive(key) {\n",
              "          const element = document.querySelector('#df-2c65ca59-6a26-4f33-bcdd-7b14cd1313bb');\n",
              "          const dataTable =\n",
              "            await google.colab.kernel.invokeFunction('convertToInteractive',\n",
              "                                                     [key], {});\n",
              "          if (!dataTable) return;\n",
              "\n",
              "          const docLinkHtml = 'Like what you see? Visit the ' +\n",
              "            '<a target=\"_blank\" href=https://colab.research.google.com/notebooks/data_table.ipynb>data table notebook</a>'\n",
              "            + ' to learn more about interactive tables.';\n",
              "          element.innerHTML = '';\n",
              "          dataTable['output_type'] = 'display_data';\n",
              "          await google.colab.output.renderOutput(dataTable, element);\n",
              "          const docLink = document.createElement('div');\n",
              "          docLink.innerHTML = docLinkHtml;\n",
              "          element.appendChild(docLink);\n",
              "        }\n",
              "      </script>\n",
              "    </div>\n",
              "  </div>\n",
              "  "
            ]
          },
          "metadata": {},
          "execution_count": 5
        }
      ]
    },
    {
      "cell_type": "code",
      "source": [
        "data.isna().sum()"
      ],
      "metadata": {
        "colab": {
          "base_uri": "https://localhost:8080/"
        },
        "id": "WjiHW-EY-KFX",
        "outputId": "63e660a5-83db-432e-c5be-f7bd18f13567"
      },
      "execution_count": null,
      "outputs": [
        {
          "output_type": "execute_result",
          "data": {
            "text/plain": [
              "male                 0\n",
              "age                  0\n",
              "education          105\n",
              "currentSmoker        0\n",
              "cigsPerDay          29\n",
              "BPMeds              53\n",
              "prevalentStroke      0\n",
              "prevalentHyp         0\n",
              "diabetes             0\n",
              "totChol             50\n",
              "sysBP                0\n",
              "diaBP                0\n",
              "BMI                 19\n",
              "heartRate            1\n",
              "glucose            388\n",
              "TenYearCHD           0\n",
              "dtype: int64"
            ]
          },
          "metadata": {},
          "execution_count": 6
        }
      ]
    },
    {
      "cell_type": "code",
      "source": [
        "data.shape\n",
        "data.drop(columns=['education'],inplace=True)"
      ],
      "metadata": {
        "id": "KovmWrKE-OBL"
      },
      "execution_count": null,
      "outputs": []
    },
    {
      "cell_type": "code",
      "source": [
        "data.head(2)"
      ],
      "metadata": {
        "colab": {
          "base_uri": "https://localhost:8080/",
          "height": 176
        },
        "id": "fGOpOe2r-bLo",
        "outputId": "0d31f8b3-8e15-47b0-ce64-92579594a3c7"
      },
      "execution_count": null,
      "outputs": [
        {
          "output_type": "execute_result",
          "data": {
            "text/plain": [
              "   male  age  currentSmoker  cigsPerDay  BPMeds  prevalentStroke  \\\n",
              "0     1   39              0         0.0     0.0                0   \n",
              "1     0   46              0         0.0     0.0                0   \n",
              "\n",
              "   prevalentHyp  diabetes  totChol  sysBP  diaBP    BMI  heartRate  glucose  \\\n",
              "0             0         0    195.0  106.0   70.0  26.97       80.0     77.0   \n",
              "1             0         0    250.0  121.0   81.0  28.73       95.0     76.0   \n",
              "\n",
              "   TenYearCHD  \n",
              "0           0  \n",
              "1           0  "
            ],
            "text/html": [
              "\n",
              "  <div id=\"df-acbe5278-03c3-4543-990d-a90eadb813b3\">\n",
              "    <div class=\"colab-df-container\">\n",
              "      <div>\n",
              "<style scoped>\n",
              "    .dataframe tbody tr th:only-of-type {\n",
              "        vertical-align: middle;\n",
              "    }\n",
              "\n",
              "    .dataframe tbody tr th {\n",
              "        vertical-align: top;\n",
              "    }\n",
              "\n",
              "    .dataframe thead th {\n",
              "        text-align: right;\n",
              "    }\n",
              "</style>\n",
              "<table border=\"1\" class=\"dataframe\">\n",
              "  <thead>\n",
              "    <tr style=\"text-align: right;\">\n",
              "      <th></th>\n",
              "      <th>male</th>\n",
              "      <th>age</th>\n",
              "      <th>currentSmoker</th>\n",
              "      <th>cigsPerDay</th>\n",
              "      <th>BPMeds</th>\n",
              "      <th>prevalentStroke</th>\n",
              "      <th>prevalentHyp</th>\n",
              "      <th>diabetes</th>\n",
              "      <th>totChol</th>\n",
              "      <th>sysBP</th>\n",
              "      <th>diaBP</th>\n",
              "      <th>BMI</th>\n",
              "      <th>heartRate</th>\n",
              "      <th>glucose</th>\n",
              "      <th>TenYearCHD</th>\n",
              "    </tr>\n",
              "  </thead>\n",
              "  <tbody>\n",
              "    <tr>\n",
              "      <th>0</th>\n",
              "      <td>1</td>\n",
              "      <td>39</td>\n",
              "      <td>0</td>\n",
              "      <td>0.0</td>\n",
              "      <td>0.0</td>\n",
              "      <td>0</td>\n",
              "      <td>0</td>\n",
              "      <td>0</td>\n",
              "      <td>195.0</td>\n",
              "      <td>106.0</td>\n",
              "      <td>70.0</td>\n",
              "      <td>26.97</td>\n",
              "      <td>80.0</td>\n",
              "      <td>77.0</td>\n",
              "      <td>0</td>\n",
              "    </tr>\n",
              "    <tr>\n",
              "      <th>1</th>\n",
              "      <td>0</td>\n",
              "      <td>46</td>\n",
              "      <td>0</td>\n",
              "      <td>0.0</td>\n",
              "      <td>0.0</td>\n",
              "      <td>0</td>\n",
              "      <td>0</td>\n",
              "      <td>0</td>\n",
              "      <td>250.0</td>\n",
              "      <td>121.0</td>\n",
              "      <td>81.0</td>\n",
              "      <td>28.73</td>\n",
              "      <td>95.0</td>\n",
              "      <td>76.0</td>\n",
              "      <td>0</td>\n",
              "    </tr>\n",
              "  </tbody>\n",
              "</table>\n",
              "</div>\n",
              "      <button class=\"colab-df-convert\" onclick=\"convertToInteractive('df-acbe5278-03c3-4543-990d-a90eadb813b3')\"\n",
              "              title=\"Convert this dataframe to an interactive table.\"\n",
              "              style=\"display:none;\">\n",
              "        \n",
              "  <svg xmlns=\"http://www.w3.org/2000/svg\" height=\"24px\"viewBox=\"0 0 24 24\"\n",
              "       width=\"24px\">\n",
              "    <path d=\"M0 0h24v24H0V0z\" fill=\"none\"/>\n",
              "    <path d=\"M18.56 5.44l.94 2.06.94-2.06 2.06-.94-2.06-.94-.94-2.06-.94 2.06-2.06.94zm-11 1L8.5 8.5l.94-2.06 2.06-.94-2.06-.94L8.5 2.5l-.94 2.06-2.06.94zm10 10l.94 2.06.94-2.06 2.06-.94-2.06-.94-.94-2.06-.94 2.06-2.06.94z\"/><path d=\"M17.41 7.96l-1.37-1.37c-.4-.4-.92-.59-1.43-.59-.52 0-1.04.2-1.43.59L10.3 9.45l-7.72 7.72c-.78.78-.78 2.05 0 2.83L4 21.41c.39.39.9.59 1.41.59.51 0 1.02-.2 1.41-.59l7.78-7.78 2.81-2.81c.8-.78.8-2.07 0-2.86zM5.41 20L4 18.59l7.72-7.72 1.47 1.35L5.41 20z\"/>\n",
              "  </svg>\n",
              "      </button>\n",
              "      \n",
              "  <style>\n",
              "    .colab-df-container {\n",
              "      display:flex;\n",
              "      flex-wrap:wrap;\n",
              "      gap: 12px;\n",
              "    }\n",
              "\n",
              "    .colab-df-convert {\n",
              "      background-color: #E8F0FE;\n",
              "      border: none;\n",
              "      border-radius: 50%;\n",
              "      cursor: pointer;\n",
              "      display: none;\n",
              "      fill: #1967D2;\n",
              "      height: 32px;\n",
              "      padding: 0 0 0 0;\n",
              "      width: 32px;\n",
              "    }\n",
              "\n",
              "    .colab-df-convert:hover {\n",
              "      background-color: #E2EBFA;\n",
              "      box-shadow: 0px 1px 2px rgba(60, 64, 67, 0.3), 0px 1px 3px 1px rgba(60, 64, 67, 0.15);\n",
              "      fill: #174EA6;\n",
              "    }\n",
              "\n",
              "    [theme=dark] .colab-df-convert {\n",
              "      background-color: #3B4455;\n",
              "      fill: #D2E3FC;\n",
              "    }\n",
              "\n",
              "    [theme=dark] .colab-df-convert:hover {\n",
              "      background-color: #434B5C;\n",
              "      box-shadow: 0px 1px 3px 1px rgba(0, 0, 0, 0.15);\n",
              "      filter: drop-shadow(0px 1px 2px rgba(0, 0, 0, 0.3));\n",
              "      fill: #FFFFFF;\n",
              "    }\n",
              "  </style>\n",
              "\n",
              "      <script>\n",
              "        const buttonEl =\n",
              "          document.querySelector('#df-acbe5278-03c3-4543-990d-a90eadb813b3 button.colab-df-convert');\n",
              "        buttonEl.style.display =\n",
              "          google.colab.kernel.accessAllowed ? 'block' : 'none';\n",
              "\n",
              "        async function convertToInteractive(key) {\n",
              "          const element = document.querySelector('#df-acbe5278-03c3-4543-990d-a90eadb813b3');\n",
              "          const dataTable =\n",
              "            await google.colab.kernel.invokeFunction('convertToInteractive',\n",
              "                                                     [key], {});\n",
              "          if (!dataTable) return;\n",
              "\n",
              "          const docLinkHtml = 'Like what you see? Visit the ' +\n",
              "            '<a target=\"_blank\" href=https://colab.research.google.com/notebooks/data_table.ipynb>data table notebook</a>'\n",
              "            + ' to learn more about interactive tables.';\n",
              "          element.innerHTML = '';\n",
              "          dataTable['output_type'] = 'display_data';\n",
              "          await google.colab.output.renderOutput(dataTable, element);\n",
              "          const docLink = document.createElement('div');\n",
              "          docLink.innerHTML = docLinkHtml;\n",
              "          element.appendChild(docLink);\n",
              "        }\n",
              "      </script>\n",
              "    </div>\n",
              "  </div>\n",
              "  "
            ]
          },
          "metadata": {},
          "execution_count": 8
        }
      ]
    },
    {
      "cell_type": "code",
      "source": [
        "df=data\n",
        "type(data)\n",
        "data.dtypes"
      ],
      "metadata": {
        "colab": {
          "base_uri": "https://localhost:8080/"
        },
        "id": "uHTxPG58-eHK",
        "outputId": "a0cc1bba-f7a2-4f3a-d44d-7bfe1e98c1bd"
      },
      "execution_count": null,
      "outputs": [
        {
          "output_type": "execute_result",
          "data": {
            "text/plain": [
              "male                 int64\n",
              "age                  int64\n",
              "currentSmoker        int64\n",
              "cigsPerDay         float64\n",
              "BPMeds             float64\n",
              "prevalentStroke      int64\n",
              "prevalentHyp         int64\n",
              "diabetes             int64\n",
              "totChol            float64\n",
              "sysBP              float64\n",
              "diaBP              float64\n",
              "BMI                float64\n",
              "heartRate          float64\n",
              "glucose            float64\n",
              "TenYearCHD           int64\n",
              "dtype: object"
            ]
          },
          "metadata": {},
          "execution_count": 10
        }
      ]
    },
    {
      "cell_type": "code",
      "source": [
        "print(df[df.duplicated()])"
      ],
      "metadata": {
        "colab": {
          "base_uri": "https://localhost:8080/"
        },
        "id": "pVqRe8Nk_YgU",
        "outputId": "7001f8a0-9db5-4d4f-f962-ff8a02cf9276"
      },
      "execution_count": null,
      "outputs": [
        {
          "output_type": "stream",
          "name": "stdout",
          "text": [
            "Empty DataFrame\n",
            "Columns: [male, age, currentSmoker, cigsPerDay, BPMeds, prevalentStroke, prevalentHyp, diabetes, totChol, sysBP, diaBP, BMI, heartRate, glucose, TenYearCHD]\n",
            "Index: []\n"
          ]
        }
      ]
    },
    {
      "cell_type": "code",
      "source": [
        "corr_matrix=df.corr()"
      ],
      "metadata": {
        "id": "3wNErrRr_1nU"
      },
      "execution_count": null,
      "outputs": []
    },
    {
      "cell_type": "code",
      "source": [
        "import seaborn as sns\n",
        "help(sns.heatmap)"
      ],
      "metadata": {
        "colab": {
          "base_uri": "https://localhost:8080/"
        },
        "id": "4kpQlX9-czau",
        "outputId": "7bb75e76-a238-4368-adf1-0f84109b1559"
      },
      "execution_count": null,
      "outputs": [
        {
          "output_type": "stream",
          "name": "stdout",
          "text": [
            "Help on function heatmap in module seaborn.matrix:\n",
            "\n",
            "heatmap(data, *, vmin=None, vmax=None, cmap=None, center=None, robust=False, annot=None, fmt='.2g', annot_kws=None, linewidths=0, linecolor='white', cbar=True, cbar_kws=None, cbar_ax=None, square=False, xticklabels='auto', yticklabels='auto', mask=None, ax=None, **kwargs)\n",
            "    Plot rectangular data as a color-encoded matrix.\n",
            "    \n",
            "    This is an Axes-level function and will draw the heatmap into the\n",
            "    currently-active Axes if none is provided to the ``ax`` argument.  Part of\n",
            "    this Axes space will be taken and used to plot a colormap, unless ``cbar``\n",
            "    is False or a separate Axes is provided to ``cbar_ax``.\n",
            "    \n",
            "    Parameters\n",
            "    ----------\n",
            "    data : rectangular dataset\n",
            "        2D dataset that can be coerced into an ndarray. If a Pandas DataFrame\n",
            "        is provided, the index/column information will be used to label the\n",
            "        columns and rows.\n",
            "    vmin, vmax : floats, optional\n",
            "        Values to anchor the colormap, otherwise they are inferred from the\n",
            "        data and other keyword arguments.\n",
            "    cmap : matplotlib colormap name or object, or list of colors, optional\n",
            "        The mapping from data values to color space. If not provided, the\n",
            "        default will depend on whether ``center`` is set.\n",
            "    center : float, optional\n",
            "        The value at which to center the colormap when plotting divergant data.\n",
            "        Using this parameter will change the default ``cmap`` if none is\n",
            "        specified.\n",
            "    robust : bool, optional\n",
            "        If True and ``vmin`` or ``vmax`` are absent, the colormap range is\n",
            "        computed with robust quantiles instead of the extreme values.\n",
            "    annot : bool or rectangular dataset, optional\n",
            "        If True, write the data value in each cell. If an array-like with the\n",
            "        same shape as ``data``, then use this to annotate the heatmap instead\n",
            "        of the data. Note that DataFrames will match on position, not index.\n",
            "    fmt : str, optional\n",
            "        String formatting code to use when adding annotations.\n",
            "    annot_kws : dict of key, value mappings, optional\n",
            "        Keyword arguments for :meth:`matplotlib.axes.Axes.text` when ``annot``\n",
            "        is True.\n",
            "    linewidths : float, optional\n",
            "        Width of the lines that will divide each cell.\n",
            "    linecolor : color, optional\n",
            "        Color of the lines that will divide each cell.\n",
            "    cbar : bool, optional\n",
            "        Whether to draw a colorbar.\n",
            "    cbar_kws : dict of key, value mappings, optional\n",
            "        Keyword arguments for :meth:`matplotlib.figure.Figure.colorbar`.\n",
            "    cbar_ax : matplotlib Axes, optional\n",
            "        Axes in which to draw the colorbar, otherwise take space from the\n",
            "        main Axes.\n",
            "    square : bool, optional\n",
            "        If True, set the Axes aspect to \"equal\" so each cell will be\n",
            "        square-shaped.\n",
            "    xticklabels, yticklabels : \"auto\", bool, list-like, or int, optional\n",
            "        If True, plot the column names of the dataframe. If False, don't plot\n",
            "        the column names. If list-like, plot these alternate labels as the\n",
            "        xticklabels. If an integer, use the column names but plot only every\n",
            "        n label. If \"auto\", try to densely plot non-overlapping labels.\n",
            "    mask : bool array or DataFrame, optional\n",
            "        If passed, data will not be shown in cells where ``mask`` is True.\n",
            "        Cells with missing values are automatically masked.\n",
            "    ax : matplotlib Axes, optional\n",
            "        Axes in which to draw the plot, otherwise use the currently-active\n",
            "        Axes.\n",
            "    kwargs : other keyword arguments\n",
            "        All other keyword arguments are passed to\n",
            "        :meth:`matplotlib.axes.Axes.pcolormesh`.\n",
            "    \n",
            "    Returns\n",
            "    -------\n",
            "    ax : matplotlib Axes\n",
            "        Axes object with the heatmap.\n",
            "    \n",
            "    See Also\n",
            "    --------\n",
            "    clustermap : Plot a matrix using hierachical clustering to arrange the\n",
            "                 rows and columns.\n",
            "    \n",
            "    Examples\n",
            "    --------\n",
            "    \n",
            "    Plot a heatmap for a numpy array:\n",
            "    \n",
            "    .. plot::\n",
            "        :context: close-figs\n",
            "    \n",
            "        >>> import numpy as np; np.random.seed(0)\n",
            "        >>> import seaborn as sns; sns.set_theme()\n",
            "        >>> uniform_data = np.random.rand(10, 12)\n",
            "        >>> ax = sns.heatmap(uniform_data)\n",
            "    \n",
            "    Change the limits of the colormap:\n",
            "    \n",
            "    .. plot::\n",
            "        :context: close-figs\n",
            "    \n",
            "        >>> ax = sns.heatmap(uniform_data, vmin=0, vmax=1)\n",
            "    \n",
            "    Plot a heatmap for data centered on 0 with a diverging colormap:\n",
            "    \n",
            "    .. plot::\n",
            "        :context: close-figs\n",
            "    \n",
            "        >>> normal_data = np.random.randn(10, 12)\n",
            "        >>> ax = sns.heatmap(normal_data, center=0)\n",
            "    \n",
            "    Plot a dataframe with meaningful row and column labels:\n",
            "    \n",
            "    .. plot::\n",
            "        :context: close-figs\n",
            "    \n",
            "        >>> flights = sns.load_dataset(\"flights\")\n",
            "        >>> flights = flights.pivot(\"month\", \"year\", \"passengers\")\n",
            "        >>> ax = sns.heatmap(flights)\n",
            "    \n",
            "    Annotate each cell with the numeric value using integer formatting:\n",
            "    \n",
            "    .. plot::\n",
            "        :context: close-figs\n",
            "    \n",
            "        >>> ax = sns.heatmap(flights, annot=True, fmt=\"d\")\n",
            "    \n",
            "    Add lines between each cell:\n",
            "    \n",
            "    .. plot::\n",
            "        :context: close-figs\n",
            "    \n",
            "        >>> ax = sns.heatmap(flights, linewidths=.5)\n",
            "    \n",
            "    Use a different colormap:\n",
            "    \n",
            "    .. plot::\n",
            "        :context: close-figs\n",
            "    \n",
            "        >>> ax = sns.heatmap(flights, cmap=\"YlGnBu\")\n",
            "    \n",
            "    Center the colormap at a specific value:\n",
            "    \n",
            "    .. plot::\n",
            "        :context: close-figs\n",
            "    \n",
            "        >>> ax = sns.heatmap(flights, center=flights.loc[\"Jan\", 1955])\n",
            "    \n",
            "    Plot every other column label and don't plot row labels:\n",
            "    \n",
            "    .. plot::\n",
            "        :context: close-figs\n",
            "    \n",
            "        >>> data = np.random.randn(50, 20)\n",
            "        >>> ax = sns.heatmap(data, xticklabels=2, yticklabels=False)\n",
            "    \n",
            "    Don't draw a colorbar:\n",
            "    \n",
            "    .. plot::\n",
            "        :context: close-figs\n",
            "    \n",
            "        >>> ax = sns.heatmap(flights, cbar=False)\n",
            "    \n",
            "    Use different axes for the colorbar:\n",
            "    \n",
            "    .. plot::\n",
            "        :context: close-figs\n",
            "    \n",
            "        >>> grid_kws = {\"height_ratios\": (.9, .05), \"hspace\": .3}\n",
            "        >>> f, (ax, cbar_ax) = plt.subplots(2, gridspec_kw=grid_kws)\n",
            "        >>> ax = sns.heatmap(flights, ax=ax,\n",
            "        ...                  cbar_ax=cbar_ax,\n",
            "        ...                  cbar_kws={\"orientation\": \"horizontal\"})\n",
            "    \n",
            "    Use a mask to plot only part of a matrix\n",
            "    \n",
            "    .. plot::\n",
            "        :context: close-figs\n",
            "    \n",
            "        >>> corr = np.corrcoef(np.random.randn(10, 200))\n",
            "        >>> mask = np.zeros_like(corr)\n",
            "        >>> mask[np.triu_indices_from(mask)] = True\n",
            "        >>> with sns.axes_style(\"white\"):\n",
            "        ...     f, ax = plt.subplots(figsize=(7, 5))\n",
            "        ...     ax = sns.heatmap(corr, mask=mask, vmax=.3, square=True)\n",
            "\n"
          ]
        }
      ]
    },
    {
      "cell_type": "code",
      "source": [
        "import seaborn as sns\n",
        "plt.figure(figsize=(20,20))\n",
        "sns.heatmap(corr_matrix,annot=True,fmt=\"0.2f\",center=True,cbar=True,annot_kws={'fontsize':16},cmap=\"gist_rainbow_r\")\n",
        "plt.plot()\n",
        "plt.show()"
      ],
      "metadata": {
        "colab": {
          "base_uri": "https://localhost:8080/",
          "height": 1000
        },
        "id": "5dy_K2rGPos6",
        "outputId": "3aa2a8d4-7724-4d51-fefb-2facfa77e906"
      },
      "execution_count": null,
      "outputs": [
        {
          "output_type": "display_data",
          "data": {
            "text/plain": [
              "<Figure size 1440x1440 with 2 Axes>"
            ],
            "image/png": "[encoded data removed]"
          },
          "metadata": {
            "needs_background": "light"
          }
        }
      ]
    },
    {
      "cell_type": "markdown",
      "source": [
        "<H1>**FEATURE SELECTION**</H1>\n",
        "\n",
        "---\n",
        "\n",
        "\n",
        "\n",
        "---\n",
        "\n"
      ],
      "metadata": {
        "id": "8X8WK9j5Y8Cb"
      }
    },
    {
      "cell_type": "markdown",
      "source": [
        "<h3>--> using correlation</h3>"
      ],
      "metadata": {
        "id": "lX1RgaFGZQho"
      }
    },
    {
      "cell_type": "code",
      "source": [
        "def correlation(dataset, threshold):\n",
        "    col_corr = set()  # Set of all the names of correlated columns\n",
        "    corr_matrix = dataset.corr()\n",
        "    for i in range(len(corr_matrix.columns)):\n",
        "        for j in range(i):\n",
        "            if abs(corr_matrix.iloc[i, j]) > threshold: # we are interested in absolute coeff value\n",
        "                colname = corr_matrix.columns[i]  # getting the name of column\n",
        "                col_corr.add(colname)\n",
        "    return col_corr\n",
        "\n",
        "correlation(df,0.7)\n",
        "\n",
        "\n",
        "# works only on numerical data not on categorical one."
      ],
      "metadata": {
        "colab": {
          "base_uri": "https://localhost:8080/"
        },
        "id": "tKkUHE8-Q_vx",
        "outputId": "068e1b8d-e1e8-4465-e10a-b53082a12635"
      },
      "execution_count": null,
      "outputs": [
        {
          "output_type": "execute_result",
          "data": {
            "text/plain": [
              "{'cigsPerDay', 'diaBP'}"
            ]
          },
          "metadata": {},
          "execution_count": 16
        }
      ]
    },
    {
      "cell_type": "code",
      "source": [
        "# corr_matrix.columns\n",
        "# for i in range(len(corr_matrix.columns)):\n",
        "#         for j in range(i):\n",
        "#             print(corr_matrix.iloc[i, j],end='')\n",
        "#         print(\"\\n\")"
      ],
      "metadata": {
        "id": "2Dk3Rg4wQyru"
      },
      "execution_count": null,
      "outputs": []
    },
    {
      "cell_type": "code",
      "source": [
        "df.drop(columns=['cigsPerDay','diaBP'],inplace=True)"
      ],
      "metadata": {
        "id": "d3Yvr6lsVgs8"
      },
      "execution_count": null,
      "outputs": []
    },
    {
      "cell_type": "code",
      "source": [
        "df.isna().sum()\n",
        "df.dropna(inplace=True)"
      ],
      "metadata": {
        "id": "tRVONqUlRog4"
      },
      "execution_count": null,
      "outputs": []
    },
    {
      "cell_type": "code",
      "source": [
        "df.isna().sum()"
      ],
      "metadata": {
        "colab": {
          "base_uri": "https://localhost:8080/"
        },
        "id": "XyeOc0DqWTOu",
        "outputId": "284c3420-ff7d-415d-c267-fc6f3f3484c0"
      },
      "execution_count": null,
      "outputs": [
        {
          "output_type": "execute_result",
          "data": {
            "text/plain": [
              "male               0\n",
              "age                0\n",
              "currentSmoker      0\n",
              "BPMeds             0\n",
              "prevalentStroke    0\n",
              "prevalentHyp       0\n",
              "diabetes           0\n",
              "totChol            0\n",
              "sysBP              0\n",
              "BMI                0\n",
              "heartRate          0\n",
              "glucose            0\n",
              "TenYearCHD         0\n",
              "dtype: int64"
            ]
          },
          "metadata": {},
          "execution_count": 19
        }
      ]
    },
    {
      "cell_type": "markdown",
      "source": [],
      "metadata": {
        "id": "jgfqIyUEZd1-"
      }
    },
    {
      "cell_type": "markdown",
      "source": [
        "---><h3>**using chi2**<h3>\n",
        "          -- SelectKBest\n",
        "\n",
        "          "
      ],
      "metadata": {
        "id": "ydzeUXwf_emr"
      }
    },
    {
      "cell_type": "code",
      "source": [
        "df.shape\n",
        "print(df.iloc[:,0:12])"
      ],
      "metadata": {
        "colab": {
          "base_uri": "https://localhost:8080/"
        },
        "id": "-qiX0ABqAgmt",
        "outputId": "25a6378f-7f7c-40fe-ddcd-1382b9f0a1b7"
      },
      "execution_count": null,
      "outputs": [
        {
          "output_type": "stream",
          "name": "stdout",
          "text": [
            "      male  age  currentSmoker  BPMeds  prevalentStroke  prevalentHyp  \\\n",
            "0        1   39              0     0.0                0             0   \n",
            "1        0   46              0     0.0                0             0   \n",
            "2        1   48              1     0.0                0             0   \n",
            "3        0   61              1     0.0                0             1   \n",
            "4        0   46              1     0.0                0             0   \n",
            "...    ...  ...            ...     ...              ...           ...   \n",
            "4231     1   58              0     0.0                0             1   \n",
            "4232     1   68              0     0.0                0             1   \n",
            "4233     1   50              1     0.0                0             1   \n",
            "4234     1   51              1     0.0                0             0   \n",
            "4237     0   52              0     0.0                0             0   \n",
            "\n",
            "      diabetes  totChol  sysBP    BMI  heartRate  glucose  \n",
            "0            0    195.0  106.0  26.97       80.0     77.0  \n",
            "1            0    250.0  121.0  28.73       95.0     76.0  \n",
            "2            0    245.0  127.5  25.34       75.0     70.0  \n",
            "3            0    225.0  150.0  28.58       65.0    103.0  \n",
            "4            0    285.0  130.0  23.10       85.0     85.0  \n",
            "...        ...      ...    ...    ...        ...      ...  \n",
            "4231         0    187.0  141.0  24.96       80.0     81.0  \n",
            "4232         0    176.0  168.0  23.14       60.0     79.0  \n",
            "4233         0    313.0  179.0  25.97       66.0     86.0  \n",
            "4234         0    207.0  126.5  19.71       65.0     68.0  \n",
            "4237         0    269.0  133.5  21.47       80.0    107.0  \n",
            "\n",
            "[3774 rows x 12 columns]\n"
          ]
        }
      ]
    },
    {
      "cell_type": "code",
      "source": [
        "from sklearn.feature_selection import SelectKBest\n",
        "from sklearn.feature_selection import chi2\n",
        "\n",
        "# separate independent & dependent variables\n",
        "X = df.iloc[:,0:12]  #independent columns\n",
        "y = df.iloc[:,-1]    #target column i.e price range\n",
        "\n",
        "# # apply SelectKBest class to extract top 10 best features\n",
        "bestfeatures = SelectKBest(score_func=chi2, k=10)\n",
        "fit = bestfeatures.fit(X,y)\n",
        "dfscores = pd.DataFrame(fit.scores_)\n",
        "cols=pd.DataFrame(X.columns[fit.get_support()])\n",
        "k=pd.concat([dfscores,cols],axis=1)\n",
        "k.columns=['Fscore','features']\n",
        "print(k.sort_values(by='Fscore',ascending=False))\n",
        "dfscores = pd.DataFrame\n",
        "print(X.columns[fit.get_support()])\n",
        "print(type(fit))\n",
        "print(fit.pvalues_)\n",
        "\n",
        "print(\"*********************************************\")\n",
        "# dfscores = pd.DataFrame(fit.scores_)\n",
        "# dfcolumns = pd.DataFrame(X.columns)\n",
        "\n",
        "# #concat two dataframes for better visualization \n",
        "# featureScores = pd.concat([dfcolumns,dfscores],axis=1)\n",
        "# print(featureScores)\n"
      ],
      "metadata": {
        "colab": {
          "base_uri": "https://localhost:8080/"
        },
        "id": "pJmv-x0G_tGB",
        "outputId": "fbcf9e5b-5757-4f3b-c8d9-b2be8c3c6c02"
      },
      "execution_count": null,
      "outputs": [
        {
          "output_type": "stream",
          "name": "stdout",
          "text": [
            "        Fscore         features\n",
            "8   672.021170              BMI\n",
            "11  395.904976              NaN\n",
            "1   296.231517              age\n",
            "7   246.873636            sysBP\n",
            "5    83.212654         diabetes\n",
            "6    31.906320          totChol\n",
            "3    26.294475  prevalentStroke\n",
            "0    19.090517             male\n",
            "9    18.157831          glucose\n",
            "4     8.528990     prevalentHyp\n",
            "10    3.794397              NaN\n",
            "2     0.785866           BPMeds\n",
            "Index(['male', 'age', 'BPMeds', 'prevalentStroke', 'prevalentHyp', 'diabetes',\n",
            "       'totChol', 'sysBP', 'BMI', 'glucose'],\n",
            "      dtype='object')\n",
            "<class 'sklearn.feature_selection._univariate_selection.SelectKBest'>\n",
            "[1.24662760e-005 2.18179547e-066 3.75352985e-001 2.93126075e-007\n",
            " 3.49533524e-003 7.36845185e-020 1.61789918e-008 1.24747568e-055\n",
            " 3.63129741e-148 2.03331579e-005 5.14243986e-002 4.28924919e-088]\n",
            "*********************************************\n"
          ]
        }
      ]
    },
    {
      "cell_type": "code",
      "source": [
        "df=df[['male', 'age', 'BPMeds', 'prevalentStroke', 'prevalentHyp', 'diabetes',\n",
        "       'totChol', 'sysBP', 'BMI', 'glucose','TenYearCHD']]"
      ],
      "metadata": {
        "id": "NCiRggGWAnFA"
      },
      "execution_count": null,
      "outputs": []
    },
    {
      "cell_type": "code",
      "source": [
        "import seaborn as sns\n",
        "\n",
        "corr_matrix=df.corr()\n",
        "plt.figure(figsize=(10,10))\n",
        "sns.heatmap(corr_matrix,annot=True,fmt=\"0.2f\",center=True,cbar=True,annot_kws={'fontsize':16},cmap=\"gist_rainbow_r\")\n",
        "plt.plot()\n",
        "plt.show()"
      ],
      "metadata": {
        "colab": {
          "base_uri": "https://localhost:8080/",
          "height": 665
        },
        "id": "EM97F-8kC79o",
        "outputId": "67c7417b-fa4f-45f5-cc15-ee0e660472d4"
      },
      "execution_count": null,
      "outputs": [
        {
          "output_type": "display_data",
          "data": {
            "text/plain": [
              "<Figure size 720x720 with 2 Axes>"
            ],
            "image/png": "[encoded data removed]"
          },
          "metadata": {
            "needs_background": "light"
          }
        }
      ]
    },
    {
      "cell_type": "markdown",
      "source": [
        "<h1>**Outliers detection**"
      ],
      "metadata": {
        "id": "42vRq-FcaYno"
      }
    },
    {
      "cell_type": "code",
      "source": [
        "df.describe()"
      ],
      "metadata": {
        "colab": {
          "base_uri": "https://localhost:8080/",
          "height": 364
        },
        "id": "IIKyIar5E-AX",
        "outputId": "5c53a73e-1f65-4899-a3ec-f3f16278e2ca"
      },
      "execution_count": null,
      "outputs": [
        {
          "output_type": "execute_result",
          "data": {
            "text/plain": [
              "              male          age       BPMeds  prevalentStroke  prevalentHyp  \\\n",
              "count  3774.000000  3774.000000  3774.000000      3774.000000   3774.000000   \n",
              "mean      0.445416    49.575782     0.030207         0.005564      0.311341   \n",
              "std       0.497078     8.557779     0.171178         0.074397      0.463103   \n",
              "min       0.000000    32.000000     0.000000         0.000000      0.000000   \n",
              "25%       0.000000    42.000000     0.000000         0.000000      0.000000   \n",
              "50%       0.000000    49.000000     0.000000         0.000000      0.000000   \n",
              "75%       1.000000    56.000000     0.000000         0.000000      1.000000   \n",
              "max       1.000000    70.000000     1.000000         1.000000      1.000000   \n",
              "\n",
              "          diabetes      totChol        sysBP          BMI      glucose  \\\n",
              "count  3774.000000  3774.000000  3774.000000  3774.000000  3774.000000   \n",
              "mean      0.027027   237.014838   132.364600    25.812022    81.906465   \n",
              "std       0.162184    44.651097    22.025542     4.064649    23.842813   \n",
              "min       0.000000   113.000000    83.500000    15.540000    40.000000   \n",
              "25%       0.000000   206.000000   117.000000    23.090000    71.000000   \n",
              "50%       0.000000   234.000000   128.000000    25.410000    78.000000   \n",
              "75%       0.000000   264.000000   144.000000    28.060000    87.000000   \n",
              "max       1.000000   696.000000   295.000000    56.800000   394.000000   \n",
              "\n",
              "        TenYearCHD  \n",
              "count  3774.000000  \n",
              "mean      0.152093  \n",
              "std       0.359159  \n",
              "min       0.000000  \n",
              "25%       0.000000  \n",
              "50%       0.000000  \n",
              "75%       0.000000  \n",
              "max       1.000000  "
            ],
            "text/html": [
              "\n",
              "  <div id=\"df-e59c97a2-d520-406a-a1ef-0544ac11452e\">\n",
              "    <div class=\"colab-df-container\">\n",
              "      <div>\n",
              "<style scoped>\n",
              "    .dataframe tbody tr th:only-of-type {\n",
              "        vertical-align: middle;\n",
              "    }\n",
              "\n",
              "    .dataframe tbody tr th {\n",
              "        vertical-align: top;\n",
              "    }\n",
              "\n",
              "    .dataframe thead th {\n",
              "        text-align: right;\n",
              "    }\n",
              "</style>\n",
              "<table border=\"1\" class=\"dataframe\">\n",
              "  <thead>\n",
              "    <tr style=\"text-align: right;\">\n",
              "      <th></th>\n",
              "      <th>male</th>\n",
              "      <th>age</th>\n",
              "      <th>BPMeds</th>\n",
              "      <th>prevalentStroke</th>\n",
              "      <th>prevalentHyp</th>\n",
              "      <th>diabetes</th>\n",
              "      <th>totChol</th>\n",
              "      <th>sysBP</th>\n",
              "      <th>BMI</th>\n",
              "      <th>glucose</th>\n",
              "      <th>TenYearCHD</th>\n",
              "    </tr>\n",
              "  </thead>\n",
              "  <tbody>\n",
              "    <tr>\n",
              "      <th>count</th>\n",
              "      <td>3774.000000</td>\n",
              "      <td>3774.000000</td>\n",
              "      <td>3774.000000</td>\n",
              "      <td>3774.000000</td>\n",
              "      <td>3774.000000</td>\n",
              "      <td>3774.000000</td>\n",
              "      <td>3774.000000</td>\n",
              "      <td>3774.000000</td>\n",
              "      <td>3774.000000</td>\n",
              "      <td>3774.000000</td>\n",
              "      <td>3774.000000</td>\n",
              "    </tr>\n",
              "    <tr>\n",
              "      <th>mean</th>\n",
              "      <td>0.445416</td>\n",
              "      <td>49.575782</td>\n",
              "      <td>0.030207</td>\n",
              "      <td>0.005564</td>\n",
              "      <td>0.311341</td>\n",
              "      <td>0.027027</td>\n",
              "      <td>237.014838</td>\n",
              "      <td>132.364600</td>\n",
              "      <td>25.812022</td>\n",
              "      <td>81.906465</td>\n",
              "      <td>0.152093</td>\n",
              "    </tr>\n",
              "    <tr>\n",
              "      <th>std</th>\n",
              "      <td>0.497078</td>\n",
              "      <td>8.557779</td>\n",
              "      <td>0.171178</td>\n",
              "      <td>0.074397</td>\n",
              "      <td>0.463103</td>\n",
              "      <td>0.162184</td>\n",
              "      <td>44.651097</td>\n",
              "      <td>22.025542</td>\n",
              "      <td>4.064649</td>\n",
              "      <td>23.842813</td>\n",
              "      <td>0.359159</td>\n",
              "    </tr>\n",
              "    <tr>\n",
              "      <th>min</th>\n",
              "      <td>0.000000</td>\n",
              "      <td>32.000000</td>\n",
              "      <td>0.000000</td>\n",
              "      <td>0.000000</td>\n",
              "      <td>0.000000</td>\n",
              "      <td>0.000000</td>\n",
              "      <td>113.000000</td>\n",
              "      <td>83.500000</td>\n",
              "      <td>15.540000</td>\n",
              "      <td>40.000000</td>\n",
              "      <td>0.000000</td>\n",
              "    </tr>\n",
              "    <tr>\n",
              "      <th>25%</th>\n",
              "      <td>0.000000</td>\n",
              "      <td>42.000000</td>\n",
              "      <td>0.000000</td>\n",
              "      <td>0.000000</td>\n",
              "      <td>0.000000</td>\n",
              "      <td>0.000000</td>\n",
              "      <td>206.000000</td>\n",
              "      <td>117.000000</td>\n",
              "      <td>23.090000</td>\n",
              "      <td>71.000000</td>\n",
              "      <td>0.000000</td>\n",
              "    </tr>\n",
              "    <tr>\n",
              "      <th>50%</th>\n",
              "      <td>0.000000</td>\n",
              "      <td>49.000000</td>\n",
              "      <td>0.000000</td>\n",
              "      <td>0.000000</td>\n",
              "      <td>0.000000</td>\n",
              "      <td>0.000000</td>\n",
              "      <td>234.000000</td>\n",
              "      <td>128.000000</td>\n",
              "      <td>25.410000</td>\n",
              "      <td>78.000000</td>\n",
              "      <td>0.000000</td>\n",
              "    </tr>\n",
              "    <tr>\n",
              "      <th>75%</th>\n",
              "      <td>1.000000</td>\n",
              "      <td>56.000000</td>\n",
              "      <td>0.000000</td>\n",
              "      <td>0.000000</td>\n",
              "      <td>1.000000</td>\n",
              "      <td>0.000000</td>\n",
              "      <td>264.000000</td>\n",
              "      <td>144.000000</td>\n",
              "      <td>28.060000</td>\n",
              "      <td>87.000000</td>\n",
              "      <td>0.000000</td>\n",
              "    </tr>\n",
              "    <tr>\n",
              "      <th>max</th>\n",
              "      <td>1.000000</td>\n",
              "      <td>70.000000</td>\n",
              "      <td>1.000000</td>\n",
              "      <td>1.000000</td>\n",
              "      <td>1.000000</td>\n",
              "      <td>1.000000</td>\n",
              "      <td>696.000000</td>\n",
              "      <td>295.000000</td>\n",
              "      <td>56.800000</td>\n",
              "      <td>394.000000</td>\n",
              "      <td>1.000000</td>\n",
              "    </tr>\n",
              "  </tbody>\n",
              "</table>\n",
              "</div>\n",
              "      <button class=\"colab-df-convert\" onclick=\"convertToInteractive('df-e59c97a2-d520-406a-a1ef-0544ac11452e')\"\n",
              "              title=\"Convert this dataframe to an interactive table.\"\n",
              "              style=\"display:none;\">\n",
              "        \n",
              "  <svg xmlns=\"http://www.w3.org/2000/svg\" height=\"24px\"viewBox=\"0 0 24 24\"\n",
              "       width=\"24px\">\n",
              "    <path d=\"M0 0h24v24H0V0z\" fill=\"none\"/>\n",
              "    <path d=\"M18.56 5.44l.94 2.06.94-2.06 2.06-.94-2.06-.94-.94-2.06-.94 2.06-2.06.94zm-11 1L8.5 8.5l.94-2.06 2.06-.94-2.06-.94L8.5 2.5l-.94 2.06-2.06.94zm10 10l.94 2.06.94-2.06 2.06-.94-2.06-.94-.94-2.06-.94 2.06-2.06.94z\"/><path d=\"M17.41 7.96l-1.37-1.37c-.4-.4-.92-.59-1.43-.59-.52 0-1.04.2-1.43.59L10.3 9.45l-7.72 7.72c-.78.78-.78 2.05 0 2.83L4 21.41c.39.39.9.59 1.41.59.51 0 1.02-.2 1.41-.59l7.78-7.78 2.81-2.81c.8-.78.8-2.07 0-2.86zM5.41 20L4 18.59l7.72-7.72 1.47 1.35L5.41 20z\"/>\n",
              "  </svg>\n",
              "      </button>\n",
              "      \n",
              "  <style>\n",
              "    .colab-df-container {\n",
              "      display:flex;\n",
              "      flex-wrap:wrap;\n",
              "      gap: 12px;\n",
              "    }\n",
              "\n",
              "    .colab-df-convert {\n",
              "      background-color: #E8F0FE;\n",
              "      border: none;\n",
              "      border-radius: 50%;\n",
              "      cursor: pointer;\n",
              "      display: none;\n",
              "      fill: #1967D2;\n",
              "      height: 32px;\n",
              "      padding: 0 0 0 0;\n",
              "      width: 32px;\n",
              "    }\n",
              "\n",
              "    .colab-df-convert:hover {\n",
              "      background-color: #E2EBFA;\n",
              "      box-shadow: 0px 1px 2px rgba(60, 64, 67, 0.3), 0px 1px 3px 1px rgba(60, 64, 67, 0.15);\n",
              "      fill: #174EA6;\n",
              "    }\n",
              "\n",
              "    [theme=dark] .colab-df-convert {\n",
              "      background-color: #3B4455;\n",
              "      fill: #D2E3FC;\n",
              "    }\n",
              "\n",
              "    [theme=dark] .colab-df-convert:hover {\n",
              "      background-color: #434B5C;\n",
              "      box-shadow: 0px 1px 3px 1px rgba(0, 0, 0, 0.15);\n",
              "      filter: drop-shadow(0px 1px 2px rgba(0, 0, 0, 0.3));\n",
              "      fill: #FFFFFF;\n",
              "    }\n",
              "  </style>\n",
              "\n",
              "      <script>\n",
              "        const buttonEl =\n",
              "          document.querySelector('#df-e59c97a2-d520-406a-a1ef-0544ac11452e button.colab-df-convert');\n",
              "        buttonEl.style.display =\n",
              "          google.colab.kernel.accessAllowed ? 'block' : 'none';\n",
              "\n",
              "        async function convertToInteractive(key) {\n",
              "          const element = document.querySelector('#df-e59c97a2-d520-406a-a1ef-0544ac11452e');\n",
              "          const dataTable =\n",
              "            await google.colab.kernel.invokeFunction('convertToInteractive',\n",
              "                                                     [key], {});\n",
              "          if (!dataTable) return;\n",
              "\n",
              "          const docLinkHtml = 'Like what you see? Visit the ' +\n",
              "            '<a target=\"_blank\" href=https://colab.research.google.com/notebooks/data_table.ipynb>data table notebook</a>'\n",
              "            + ' to learn more about interactive tables.';\n",
              "          element.innerHTML = '';\n",
              "          dataTable['output_type'] = 'display_data';\n",
              "          await google.colab.output.renderOutput(dataTable, element);\n",
              "          const docLink = document.createElement('div');\n",
              "          docLink.innerHTML = docLinkHtml;\n",
              "          element.appendChild(docLink);\n",
              "        }\n",
              "      </script>\n",
              "    </div>\n",
              "  </div>\n",
              "  "
            ]
          },
          "metadata": {},
          "execution_count": 20
        }
      ]
    },
    {
      "cell_type": "code",
      "source": [
        "df.columns"
      ],
      "metadata": {
        "colab": {
          "base_uri": "https://localhost:8080/"
        },
        "id": "7x4V-GIYelQG",
        "outputId": "ce910c8d-0538-48b5-e56f-d1b15cb512b6"
      },
      "execution_count": null,
      "outputs": [
        {
          "output_type": "execute_result",
          "data": {
            "text/plain": [
              "Index(['male', 'age', 'BPMeds', 'prevalentStroke', 'prevalentHyp', 'diabetes',\n",
              "       'totChol', 'sysBP', 'BMI', 'glucose', 'TenYearCHD'],\n",
              "      dtype='object')"
            ]
          },
          "metadata": {},
          "execution_count": 21
        }
      ]
    },
    {
      "cell_type": "code",
      "source": [
        "from matplotlib import figure\n",
        "fig=plt.figure(figsize=(10,10))\n",
        "\n",
        "feat= ['totChol', 'sysBP', 'BMI', 'glucose']\n",
        "\n",
        "for i in range(len(feat)):\n",
        "  plt.subplot(2,2,i+1)\n",
        "  sns.distplot(df[feat[i]])\n"
      ],
      "metadata": {
        "colab": {
          "base_uri": "https://localhost:8080/",
          "height": 765
        },
        "id": "aQLjxpyMaxPR",
        "outputId": "59b0ad55-ecb0-4d4f-e62e-aeb5c6f48576"
      },
      "execution_count": null,
      "outputs": [
        {
          "output_type": "stream",
          "name": "stderr",
          "text": [
            "/usr/local/lib/python3.7/dist-packages/seaborn/distributions.py:2619: FutureWarning: `distplot` is a deprecated function and will be removed in a future version. Please adapt your code to use either `displot` (a figure-level function with similar flexibility) or `histplot` (an axes-level function for histograms).\n",
            "  warnings.warn(msg, FutureWarning)\n",
            "/usr/local/lib/python3.7/dist-packages/seaborn/distributions.py:2619: FutureWarning: `distplot` is a deprecated function and will be removed in a future version. Please adapt your code to use either `displot` (a figure-level function with similar flexibility) or `histplot` (an axes-level function for histograms).\n",
            "  warnings.warn(msg, FutureWarning)\n",
            "/usr/local/lib/python3.7/dist-packages/seaborn/distributions.py:2619: FutureWarning: `distplot` is a deprecated function and will be removed in a future version. Please adapt your code to use either `displot` (a figure-level function with similar flexibility) or `histplot` (an axes-level function for histograms).\n",
            "  warnings.warn(msg, FutureWarning)\n",
            "/usr/local/lib/python3.7/dist-packages/seaborn/distributions.py:2619: FutureWarning: `distplot` is a deprecated function and will be removed in a future version. Please adapt your code to use either `displot` (a figure-level function with similar flexibility) or `histplot` (an axes-level function for histograms).\n",
            "  warnings.warn(msg, FutureWarning)\n"
          ]
        },
        {
          "output_type": "display_data",
          "data": {
            "text/plain": [
              "<Figure size 720x720 with 4 Axes>"
            ],
            "image/png": "[encoded data removed]"
          },
          "metadata": {
            "needs_background": "light"
          }
        }
      ]
    },
    {
      "cell_type": "code",
      "source": [
        "feat= ['totChol', 'sysBP', 'BMI', 'glucose']\n",
        "f=['z_totChol', 'z_sysBP', 'z_BMI', 'z_glucose']\n",
        "\n",
        "Std=[]\n",
        "for i in range(len(feat)):\n",
        "  Std.append(df[feat[i]].std())\n",
        "# Std=[df[]]\n",
        "\n",
        "for i in range(len(feat)):\n",
        "  df[f[i]]=(df[feat[i]]-df[feat[i]].mean())/df[feat[i]].std()\n",
        "\n",
        "  print(\" Outliers -> {}\".format(feat[i]),\"\\n\")\n",
        "\n",
        "  print( df[ (df[f[i]]>3) | (df[f[i]]<-3) ][f[i]].count())\n",
        "  print(\"*********************\")"
      ],
      "metadata": {
        "colab": {
          "base_uri": "https://localhost:8080/"
        },
        "id": "trbqDrWIcwIN",
        "outputId": "78aad30c-7a2c-4297-b0eb-9dd83b2eaca1"
      },
      "execution_count": null,
      "outputs": [
        {
          "output_type": "stream",
          "name": "stdout",
          "text": [
            " Outliers -> totChol \n",
            "\n",
            "22\n",
            "*********************\n",
            " Outliers -> sysBP \n",
            "\n",
            "44\n",
            "*********************\n",
            " Outliers -> BMI \n",
            "\n",
            "53\n",
            "*********************\n",
            " Outliers -> glucose \n",
            "\n",
            "49\n",
            "*********************\n"
          ]
        }
      ]
    },
    {
      "cell_type": "code",
      "source": [
        "df.shape\n"
      ],
      "metadata": {
        "colab": {
          "base_uri": "https://localhost:8080/"
        },
        "id": "fInlNqPRhCIu",
        "outputId": "46bd5d3c-dc0b-444d-9f09-eea330ac497a"
      },
      "execution_count": null,
      "outputs": [
        {
          "output_type": "execute_result",
          "data": {
            "text/plain": [
              "(3774, 15)"
            ]
          },
          "metadata": {},
          "execution_count": 24
        }
      ]
    },
    {
      "cell_type": "code",
      "source": [
        "f=['z_totChol', 'z_sysBP', 'z_BMI', 'z_glucose']\n",
        "new_df=df[ (df[f[0]]<3) & (df[f[0]]>-3) &(df[f[1]]<3) & (df[f[1]]>-3)&(df[f[2]]<3) & (df[f[2]]>-3) & (df[f[3]]<3) & (df[f[3]]>-3)]\n",
        "# for i in range(len(feat)):\n",
        "#   print(\" Outliers -> {}\".format(feat[i]),\"\\n\")\n",
        "#   new_df=df[ (df[f[i]]<3) & (df[f[i]]>-3)]\n",
        "\n",
        "# new_df.head()\n",
        "new_df.shape"
      ],
      "metadata": {
        "colab": {
          "base_uri": "https://localhost:8080/"
        },
        "id": "XlZtmGt0hNbh",
        "outputId": "e92ce7c8-c96e-4679-b8fa-b93643f93b35"
      },
      "execution_count": null,
      "outputs": [
        {
          "output_type": "execute_result",
          "data": {
            "text/plain": [
              "(3620, 17)"
            ]
          },
          "metadata": {},
          "execution_count": 23
        }
      ]
    },
    {
      "cell_type": "code",
      "source": [
        "3774-3620\n",
        "# 154 outiers rows has been removed"
      ],
      "metadata": {
        "colab": {
          "base_uri": "https://localhost:8080/"
        },
        "id": "uJAhWw69orw2",
        "outputId": "7e8c8d75-47ed-48af-f365-9039642b8a88"
      },
      "execution_count": null,
      "outputs": [
        {
          "output_type": "execute_result",
          "data": {
            "text/plain": [
              "154"
            ]
          },
          "metadata": {},
          "execution_count": 26
        }
      ]
    },
    {
      "cell_type": "code",
      "source": [
        "df.describe()"
      ],
      "metadata": {
        "colab": {
          "base_uri": "https://localhost:8080/",
          "height": 364
        },
        "id": "loKN8Yadq5dn",
        "outputId": "3621de51-f8cc-47dd-d5cb-40c65733e28a"
      },
      "execution_count": null,
      "outputs": [
        {
          "output_type": "execute_result",
          "data": {
            "text/plain": [
              "              male          age       BPMeds  prevalentStroke  prevalentHyp  \\\n",
              "count  3774.000000  3774.000000  3774.000000      3774.000000   3774.000000   \n",
              "mean      0.445416    49.575782     0.030207         0.005564      0.311341   \n",
              "std       0.497078     8.557779     0.171178         0.074397      0.463103   \n",
              "min       0.000000    32.000000     0.000000         0.000000      0.000000   \n",
              "25%       0.000000    42.000000     0.000000         0.000000      0.000000   \n",
              "50%       0.000000    49.000000     0.000000         0.000000      0.000000   \n",
              "75%       1.000000    56.000000     0.000000         0.000000      1.000000   \n",
              "max       1.000000    70.000000     1.000000         1.000000      1.000000   \n",
              "\n",
              "          diabetes      totChol        sysBP          BMI      glucose  \\\n",
              "count  3774.000000  3774.000000  3774.000000  3774.000000  3774.000000   \n",
              "mean      0.027027   237.014838   132.364600    25.812022    81.906465   \n",
              "std       0.162184    44.651097    22.025542     4.064649    23.842813   \n",
              "min       0.000000   113.000000    83.500000    15.540000    40.000000   \n",
              "25%       0.000000   206.000000   117.000000    23.090000    71.000000   \n",
              "50%       0.000000   234.000000   128.000000    25.410000    78.000000   \n",
              "75%       0.000000   264.000000   144.000000    28.060000    87.000000   \n",
              "max       1.000000   696.000000   295.000000    56.800000   394.000000   \n",
              "\n",
              "        TenYearCHD     z_totChol       z_sysBP         z_BMI     z_glucose  \n",
              "count  3774.000000  3.774000e+03  3.774000e+03  3.774000e+03  3.774000e+03  \n",
              "mean      0.152093  2.668771e-16 -1.110811e-16  8.509945e-16  2.108659e-16  \n",
              "std       0.359159  1.000000e+00  1.000000e+00  1.000000e+00  1.000000e+00  \n",
              "min       0.000000 -2.777420e+00 -2.218542e+00 -2.527161e+00 -1.757614e+00  \n",
              "25%       0.000000 -6.946042e-01 -6.975810e-01 -6.696818e-01 -4.574320e-01  \n",
              "50%       0.000000 -6.751992e-02 -1.981608e-01 -9.890687e-02 -1.638425e-01  \n",
              "75%       0.000000  6.043561e-01  5.282685e-01  5.530559e-01  2.136298e-01  \n",
              "max       1.000000  1.027937e+01  7.383945e+00  7.623777e+00  1.308963e+01  "
            ],
            "text/html": [
              "\n",
              "  <div id=\"df-da82cdb2-ce21-4d95-8718-35a5c0935eb3\">\n",
              "    <div class=\"colab-df-container\">\n",
              "      <div>\n",
              "<style scoped>\n",
              "    .dataframe tbody tr th:only-of-type {\n",
              "        vertical-align: middle;\n",
              "    }\n",
              "\n",
              "    .dataframe tbody tr th {\n",
              "        vertical-align: top;\n",
              "    }\n",
              "\n",
              "    .dataframe thead th {\n",
              "        text-align: right;\n",
              "    }\n",
              "</style>\n",
              "<table border=\"1\" class=\"dataframe\">\n",
              "  <thead>\n",
              "    <tr style=\"text-align: right;\">\n",
              "      <th></th>\n",
              "      <th>male</th>\n",
              "      <th>age</th>\n",
              "      <th>BPMeds</th>\n",
              "      <th>prevalentStroke</th>\n",
              "      <th>prevalentHyp</th>\n",
              "      <th>diabetes</th>\n",
              "      <th>totChol</th>\n",
              "      <th>sysBP</th>\n",
              "      <th>BMI</th>\n",
              "      <th>glucose</th>\n",
              "      <th>TenYearCHD</th>\n",
              "      <th>z_totChol</th>\n",
              "      <th>z_sysBP</th>\n",
              "      <th>z_BMI</th>\n",
              "      <th>z_glucose</th>\n",
              "    </tr>\n",
              "  </thead>\n",
              "  <tbody>\n",
              "    <tr>\n",
              "      <th>count</th>\n",
              "      <td>3774.000000</td>\n",
              "      <td>3774.000000</td>\n",
              "      <td>3774.000000</td>\n",
              "      <td>3774.000000</td>\n",
              "      <td>3774.000000</td>\n",
              "      <td>3774.000000</td>\n",
              "      <td>3774.000000</td>\n",
              "      <td>3774.000000</td>\n",
              "      <td>3774.000000</td>\n",
              "      <td>3774.000000</td>\n",
              "      <td>3774.000000</td>\n",
              "      <td>3.774000e+03</td>\n",
              "      <td>3.774000e+03</td>\n",
              "      <td>3.774000e+03</td>\n",
              "      <td>3.774000e+03</td>\n",
              "    </tr>\n",
              "    <tr>\n",
              "      <th>mean</th>\n",
              "      <td>0.445416</td>\n",
              "      <td>49.575782</td>\n",
              "      <td>0.030207</td>\n",
              "      <td>0.005564</td>\n",
              "      <td>0.311341</td>\n",
              "      <td>0.027027</td>\n",
              "      <td>237.014838</td>\n",
              "      <td>132.364600</td>\n",
              "      <td>25.812022</td>\n",
              "      <td>81.906465</td>\n",
              "      <td>0.152093</td>\n",
              "      <td>2.668771e-16</td>\n",
              "      <td>-1.110811e-16</td>\n",
              "      <td>8.509945e-16</td>\n",
              "      <td>2.108659e-16</td>\n",
              "    </tr>\n",
              "    <tr>\n",
              "      <th>std</th>\n",
              "      <td>0.497078</td>\n",
              "      <td>8.557779</td>\n",
              "      <td>0.171178</td>\n",
              "      <td>0.074397</td>\n",
              "      <td>0.463103</td>\n",
              "      <td>0.162184</td>\n",
              "      <td>44.651097</td>\n",
              "      <td>22.025542</td>\n",
              "      <td>4.064649</td>\n",
              "      <td>23.842813</td>\n",
              "      <td>0.359159</td>\n",
              "      <td>1.000000e+00</td>\n",
              "      <td>1.000000e+00</td>\n",
              "      <td>1.000000e+00</td>\n",
              "      <td>1.000000e+00</td>\n",
              "    </tr>\n",
              "    <tr>\n",
              "      <th>min</th>\n",
              "      <td>0.000000</td>\n",
              "      <td>32.000000</td>\n",
              "      <td>0.000000</td>\n",
              "      <td>0.000000</td>\n",
              "      <td>0.000000</td>\n",
              "      <td>0.000000</td>\n",
              "      <td>113.000000</td>\n",
              "      <td>83.500000</td>\n",
              "      <td>15.540000</td>\n",
              "      <td>40.000000</td>\n",
              "      <td>0.000000</td>\n",
              "      <td>-2.777420e+00</td>\n",
              "      <td>-2.218542e+00</td>\n",
              "      <td>-2.527161e+00</td>\n",
              "      <td>-1.757614e+00</td>\n",
              "    </tr>\n",
              "    <tr>\n",
              "      <th>25%</th>\n",
              "      <td>0.000000</td>\n",
              "      <td>42.000000</td>\n",
              "      <td>0.000000</td>\n",
              "      <td>0.000000</td>\n",
              "      <td>0.000000</td>\n",
              "      <td>0.000000</td>\n",
              "      <td>206.000000</td>\n",
              "      <td>117.000000</td>\n",
              "      <td>23.090000</td>\n",
              "      <td>71.000000</td>\n",
              "      <td>0.000000</td>\n",
              "      <td>-6.946042e-01</td>\n",
              "      <td>-6.975810e-01</td>\n",
              "      <td>-6.696818e-01</td>\n",
              "      <td>-4.574320e-01</td>\n",
              "    </tr>\n",
              "    <tr>\n",
              "      <th>50%</th>\n",
              "      <td>0.000000</td>\n",
              "      <td>49.000000</td>\n",
              "      <td>0.000000</td>\n",
              "      <td>0.000000</td>\n",
              "      <td>0.000000</td>\n",
              "      <td>0.000000</td>\n",
              "      <td>234.000000</td>\n",
              "      <td>128.000000</td>\n",
              "      <td>25.410000</td>\n",
              "      <td>78.000000</td>\n",
              "      <td>0.000000</td>\n",
              "      <td>-6.751992e-02</td>\n",
              "      <td>-1.981608e-01</td>\n",
              "      <td>-9.890687e-02</td>\n",
              "      <td>-1.638425e-01</td>\n",
              "    </tr>\n",
              "    <tr>\n",
              "      <th>75%</th>\n",
              "      <td>1.000000</td>\n",
              "      <td>56.000000</td>\n",
              "      <td>0.000000</td>\n",
              "      <td>0.000000</td>\n",
              "      <td>1.000000</td>\n",
              "      <td>0.000000</td>\n",
              "      <td>264.000000</td>\n",
              "      <td>144.000000</td>\n",
              "      <td>28.060000</td>\n",
              "      <td>87.000000</td>\n",
              "      <td>0.000000</td>\n",
              "      <td>6.043561e-01</td>\n",
              "      <td>5.282685e-01</td>\n",
              "      <td>5.530559e-01</td>\n",
              "      <td>2.136298e-01</td>\n",
              "    </tr>\n",
              "    <tr>\n",
              "      <th>max</th>\n",
              "      <td>1.000000</td>\n",
              "      <td>70.000000</td>\n",
              "      <td>1.000000</td>\n",
              "      <td>1.000000</td>\n",
              "      <td>1.000000</td>\n",
              "      <td>1.000000</td>\n",
              "      <td>696.000000</td>\n",
              "      <td>295.000000</td>\n",
              "      <td>56.800000</td>\n",
              "      <td>394.000000</td>\n",
              "      <td>1.000000</td>\n",
              "      <td>1.027937e+01</td>\n",
              "      <td>7.383945e+00</td>\n",
              "      <td>7.623777e+00</td>\n",
              "      <td>1.308963e+01</td>\n",
              "    </tr>\n",
              "  </tbody>\n",
              "</table>\n",
              "</div>\n",
              "      <button class=\"colab-df-convert\" onclick=\"convertToInteractive('df-da82cdb2-ce21-4d95-8718-35a5c0935eb3')\"\n",
              "              title=\"Convert this dataframe to an interactive table.\"\n",
              "              style=\"display:none;\">\n",
              "        \n",
              "  <svg xmlns=\"http://www.w3.org/2000/svg\" height=\"24px\"viewBox=\"0 0 24 24\"\n",
              "       width=\"24px\">\n",
              "    <path d=\"M0 0h24v24H0V0z\" fill=\"none\"/>\n",
              "    <path d=\"M18.56 5.44l.94 2.06.94-2.06 2.06-.94-2.06-.94-.94-2.06-.94 2.06-2.06.94zm-11 1L8.5 8.5l.94-2.06 2.06-.94-2.06-.94L8.5 2.5l-.94 2.06-2.06.94zm10 10l.94 2.06.94-2.06 2.06-.94-2.06-.94-.94-2.06-.94 2.06-2.06.94z\"/><path d=\"M17.41 7.96l-1.37-1.37c-.4-.4-.92-.59-1.43-.59-.52 0-1.04.2-1.43.59L10.3 9.45l-7.72 7.72c-.78.78-.78 2.05 0 2.83L4 21.41c.39.39.9.59 1.41.59.51 0 1.02-.2 1.41-.59l7.78-7.78 2.81-2.81c.8-.78.8-2.07 0-2.86zM5.41 20L4 18.59l7.72-7.72 1.47 1.35L5.41 20z\"/>\n",
              "  </svg>\n",
              "      </button>\n",
              "      \n",
              "  <style>\n",
              "    .colab-df-container {\n",
              "      display:flex;\n",
              "      flex-wrap:wrap;\n",
              "      gap: 12px;\n",
              "    }\n",
              "\n",
              "    .colab-df-convert {\n",
              "      background-color: #E8F0FE;\n",
              "      border: none;\n",
              "      border-radius: 50%;\n",
              "      cursor: pointer;\n",
              "      display: none;\n",
              "      fill: #1967D2;\n",
              "      height: 32px;\n",
              "      padding: 0 0 0 0;\n",
              "      width: 32px;\n",
              "    }\n",
              "\n",
              "    .colab-df-convert:hover {\n",
              "      background-color: #E2EBFA;\n",
              "      box-shadow: 0px 1px 2px rgba(60, 64, 67, 0.3), 0px 1px 3px 1px rgba(60, 64, 67, 0.15);\n",
              "      fill: #174EA6;\n",
              "    }\n",
              "\n",
              "    [theme=dark] .colab-df-convert {\n",
              "      background-color: #3B4455;\n",
              "      fill: #D2E3FC;\n",
              "    }\n",
              "\n",
              "    [theme=dark] .colab-df-convert:hover {\n",
              "      background-color: #434B5C;\n",
              "      box-shadow: 0px 1px 3px 1px rgba(0, 0, 0, 0.15);\n",
              "      filter: drop-shadow(0px 1px 2px rgba(0, 0, 0, 0.3));\n",
              "      fill: #FFFFFF;\n",
              "    }\n",
              "  </style>\n",
              "\n",
              "      <script>\n",
              "        const buttonEl =\n",
              "          document.querySelector('#df-da82cdb2-ce21-4d95-8718-35a5c0935eb3 button.colab-df-convert');\n",
              "        buttonEl.style.display =\n",
              "          google.colab.kernel.accessAllowed ? 'block' : 'none';\n",
              "\n",
              "        async function convertToInteractive(key) {\n",
              "          const element = document.querySelector('#df-da82cdb2-ce21-4d95-8718-35a5c0935eb3');\n",
              "          const dataTable =\n",
              "            await google.colab.kernel.invokeFunction('convertToInteractive',\n",
              "                                                     [key], {});\n",
              "          if (!dataTable) return;\n",
              "\n",
              "          const docLinkHtml = 'Like what you see? Visit the ' +\n",
              "            '<a target=\"_blank\" href=https://colab.research.google.com/notebooks/data_table.ipynb>data table notebook</a>'\n",
              "            + ' to learn more about interactive tables.';\n",
              "          element.innerHTML = '';\n",
              "          dataTable['output_type'] = 'display_data';\n",
              "          await google.colab.output.renderOutput(dataTable, element);\n",
              "          const docLink = document.createElement('div');\n",
              "          docLink.innerHTML = docLinkHtml;\n",
              "          element.appendChild(docLink);\n",
              "        }\n",
              "      </script>\n",
              "    </div>\n",
              "  </div>\n",
              "  "
            ]
          },
          "metadata": {},
          "execution_count": 27
        }
      ]
    },
    {
      "cell_type": "code",
      "source": [
        "new_df.describe()"
      ],
      "metadata": {
        "colab": {
          "base_uri": "https://localhost:8080/",
          "height": 364
        },
        "id": "P46ycP53p5Dl",
        "outputId": "7f50f5ab-4ce7-4ad4-af79-4622a11655df"
      },
      "execution_count": null,
      "outputs": [
        {
          "output_type": "execute_result",
          "data": {
            "text/plain": [
              "              male          age       BPMeds  prevalentStroke  prevalentHyp  \\\n",
              "count  3620.000000  3620.000000  3620.000000      3620.000000   3620.000000   \n",
              "mean      0.451381    49.359669     0.026243         0.004972      0.293646   \n",
              "std       0.497699     8.514275     0.159880         0.070349      0.455495   \n",
              "min       0.000000    32.000000     0.000000         0.000000      0.000000   \n",
              "25%       0.000000    42.000000     0.000000         0.000000      0.000000   \n",
              "50%       0.000000    48.000000     0.000000         0.000000      0.000000   \n",
              "75%       1.000000    56.000000     0.000000         0.000000      1.000000   \n",
              "max       1.000000    70.000000     1.000000         1.000000      1.000000   \n",
              "\n",
              "          diabetes      totChol        sysBP          BMI      glucose  \\\n",
              "count  3620.000000  3620.000000  3620.000000  3620.000000  3620.000000   \n",
              "mean      0.012983   235.528177   130.909254    25.569555    79.724586   \n",
              "std       0.113218    41.888522    19.868787     3.633703    13.420757   \n",
              "min       0.000000   113.000000    83.500000    15.540000    40.000000   \n",
              "25%       0.000000   205.000000   116.000000    23.060000    71.000000   \n",
              "50%       0.000000   233.000000   128.000000    25.330000    78.000000   \n",
              "75%       0.000000   262.000000   142.000000    27.910000    86.000000   \n",
              "max       1.000000   370.000000   198.000000    37.580000   150.000000   \n",
              "\n",
              "        TenYearCHD    z_totChol      z_sysBP        z_BMI    z_glucose  \n",
              "count  3620.000000  3620.000000  3620.000000  3620.000000  3620.000000  \n",
              "mean      0.141160    -0.033295    -0.066075    -0.059652    -0.091511  \n",
              "std       0.348235     0.938130     0.902079     0.893977     0.562885  \n",
              "min       0.000000    -2.777420    -2.218542    -2.527161    -1.757614  \n",
              "25%       0.000000    -0.717000    -0.742983    -0.677063    -0.457432  \n",
              "50%       0.000000    -0.089916    -0.198161    -0.118589    -0.163842  \n",
              "75%       0.000000     0.559564     0.437465     0.516152     0.171688  \n",
              "max       1.000000     2.978318     2.979967     2.895201     2.855935  "
            ],
            "text/html": [
              "\n",
              "  <div id=\"df-fc0f07f8-45e7-4c53-95d0-de53d00f6c4a\">\n",
              "    <div class=\"colab-df-container\">\n",
              "      <div>\n",
              "<style scoped>\n",
              "    .dataframe tbody tr th:only-of-type {\n",
              "        vertical-align: middle;\n",
              "    }\n",
              "\n",
              "    .dataframe tbody tr th {\n",
              "        vertical-align: top;\n",
              "    }\n",
              "\n",
              "    .dataframe thead th {\n",
              "        text-align: right;\n",
              "    }\n",
              "</style>\n",
              "<table border=\"1\" class=\"dataframe\">\n",
              "  <thead>\n",
              "    <tr style=\"text-align: right;\">\n",
              "      <th></th>\n",
              "      <th>male</th>\n",
              "      <th>age</th>\n",
              "      <th>BPMeds</th>\n",
              "      <th>prevalentStroke</th>\n",
              "      <th>prevalentHyp</th>\n",
              "      <th>diabetes</th>\n",
              "      <th>totChol</th>\n",
              "      <th>sysBP</th>\n",
              "      <th>BMI</th>\n",
              "      <th>glucose</th>\n",
              "      <th>TenYearCHD</th>\n",
              "      <th>z_totChol</th>\n",
              "      <th>z_sysBP</th>\n",
              "      <th>z_BMI</th>\n",
              "      <th>z_glucose</th>\n",
              "    </tr>\n",
              "  </thead>\n",
              "  <tbody>\n",
              "    <tr>\n",
              "      <th>count</th>\n",
              "      <td>3620.000000</td>\n",
              "      <td>3620.000000</td>\n",
              "      <td>3620.000000</td>\n",
              "      <td>3620.000000</td>\n",
              "      <td>3620.000000</td>\n",
              "      <td>3620.000000</td>\n",
              "      <td>3620.000000</td>\n",
              "      <td>3620.000000</td>\n",
              "      <td>3620.000000</td>\n",
              "      <td>3620.000000</td>\n",
              "      <td>3620.000000</td>\n",
              "      <td>3620.000000</td>\n",
              "      <td>3620.000000</td>\n",
              "      <td>3620.000000</td>\n",
              "      <td>3620.000000</td>\n",
              "    </tr>\n",
              "    <tr>\n",
              "      <th>mean</th>\n",
              "      <td>0.451381</td>\n",
              "      <td>49.359669</td>\n",
              "      <td>0.026243</td>\n",
              "      <td>0.004972</td>\n",
              "      <td>0.293646</td>\n",
              "      <td>0.012983</td>\n",
              "      <td>235.528177</td>\n",
              "      <td>130.909254</td>\n",
              "      <td>25.569555</td>\n",
              "      <td>79.724586</td>\n",
              "      <td>0.141160</td>\n",
              "      <td>-0.033295</td>\n",
              "      <td>-0.066075</td>\n",
              "      <td>-0.059652</td>\n",
              "      <td>-0.091511</td>\n",
              "    </tr>\n",
              "    <tr>\n",
              "      <th>std</th>\n",
              "      <td>0.497699</td>\n",
              "      <td>8.514275</td>\n",
              "      <td>0.159880</td>\n",
              "      <td>0.070349</td>\n",
              "      <td>0.455495</td>\n",
              "      <td>0.113218</td>\n",
              "      <td>41.888522</td>\n",
              "      <td>19.868787</td>\n",
              "      <td>3.633703</td>\n",
              "      <td>13.420757</td>\n",
              "      <td>0.348235</td>\n",
              "      <td>0.938130</td>\n",
              "      <td>0.902079</td>\n",
              "      <td>0.893977</td>\n",
              "      <td>0.562885</td>\n",
              "    </tr>\n",
              "    <tr>\n",
              "      <th>min</th>\n",
              "      <td>0.000000</td>\n",
              "      <td>32.000000</td>\n",
              "      <td>0.000000</td>\n",
              "      <td>0.000000</td>\n",
              "      <td>0.000000</td>\n",
              "      <td>0.000000</td>\n",
              "      <td>113.000000</td>\n",
              "      <td>83.500000</td>\n",
              "      <td>15.540000</td>\n",
              "      <td>40.000000</td>\n",
              "      <td>0.000000</td>\n",
              "      <td>-2.777420</td>\n",
              "      <td>-2.218542</td>\n",
              "      <td>-2.527161</td>\n",
              "      <td>-1.757614</td>\n",
              "    </tr>\n",
              "    <tr>\n",
              "      <th>25%</th>\n",
              "      <td>0.000000</td>\n",
              "      <td>42.000000</td>\n",
              "      <td>0.000000</td>\n",
              "      <td>0.000000</td>\n",
              "      <td>0.000000</td>\n",
              "      <td>0.000000</td>\n",
              "      <td>205.000000</td>\n",
              "      <td>116.000000</td>\n",
              "      <td>23.060000</td>\n",
              "      <td>71.000000</td>\n",
              "      <td>0.000000</td>\n",
              "      <td>-0.717000</td>\n",
              "      <td>-0.742983</td>\n",
              "      <td>-0.677063</td>\n",
              "      <td>-0.457432</td>\n",
              "    </tr>\n",
              "    <tr>\n",
              "      <th>50%</th>\n",
              "      <td>0.000000</td>\n",
              "      <td>48.000000</td>\n",
              "      <td>0.000000</td>\n",
              "      <td>0.000000</td>\n",
              "      <td>0.000000</td>\n",
              "      <td>0.000000</td>\n",
              "      <td>233.000000</td>\n",
              "      <td>128.000000</td>\n",
              "      <td>25.330000</td>\n",
              "      <td>78.000000</td>\n",
              "      <td>0.000000</td>\n",
              "      <td>-0.089916</td>\n",
              "      <td>-0.198161</td>\n",
              "      <td>-0.118589</td>\n",
              "      <td>-0.163842</td>\n",
              "    </tr>\n",
              "    <tr>\n",
              "      <th>75%</th>\n",
              "      <td>1.000000</td>\n",
              "      <td>56.000000</td>\n",
              "      <td>0.000000</td>\n",
              "      <td>0.000000</td>\n",
              "      <td>1.000000</td>\n",
              "      <td>0.000000</td>\n",
              "      <td>262.000000</td>\n",
              "      <td>142.000000</td>\n",
              "      <td>27.910000</td>\n",
              "      <td>86.000000</td>\n",
              "      <td>0.000000</td>\n",
              "      <td>0.559564</td>\n",
              "      <td>0.437465</td>\n",
              "      <td>0.516152</td>\n",
              "      <td>0.171688</td>\n",
              "    </tr>\n",
              "    <tr>\n",
              "      <th>max</th>\n",
              "      <td>1.000000</td>\n",
              "      <td>70.000000</td>\n",
              "      <td>1.000000</td>\n",
              "      <td>1.000000</td>\n",
              "      <td>1.000000</td>\n",
              "      <td>1.000000</td>\n",
              "      <td>370.000000</td>\n",
              "      <td>198.000000</td>\n",
              "      <td>37.580000</td>\n",
              "      <td>150.000000</td>\n",
              "      <td>1.000000</td>\n",
              "      <td>2.978318</td>\n",
              "      <td>2.979967</td>\n",
              "      <td>2.895201</td>\n",
              "      <td>2.855935</td>\n",
              "    </tr>\n",
              "  </tbody>\n",
              "</table>\n",
              "</div>\n",
              "      <button class=\"colab-df-convert\" onclick=\"convertToInteractive('df-fc0f07f8-45e7-4c53-95d0-de53d00f6c4a')\"\n",
              "              title=\"Convert this dataframe to an interactive table.\"\n",
              "              style=\"display:none;\">\n",
              "        \n",
              "  <svg xmlns=\"http://www.w3.org/2000/svg\" height=\"24px\"viewBox=\"0 0 24 24\"\n",
              "       width=\"24px\">\n",
              "    <path d=\"M0 0h24v24H0V0z\" fill=\"none\"/>\n",
              "    <path d=\"M18.56 5.44l.94 2.06.94-2.06 2.06-.94-2.06-.94-.94-2.06-.94 2.06-2.06.94zm-11 1L8.5 8.5l.94-2.06 2.06-.94-2.06-.94L8.5 2.5l-.94 2.06-2.06.94zm10 10l.94 2.06.94-2.06 2.06-.94-2.06-.94-.94-2.06-.94 2.06-2.06.94z\"/><path d=\"M17.41 7.96l-1.37-1.37c-.4-.4-.92-.59-1.43-.59-.52 0-1.04.2-1.43.59L10.3 9.45l-7.72 7.72c-.78.78-.78 2.05 0 2.83L4 21.41c.39.39.9.59 1.41.59.51 0 1.02-.2 1.41-.59l7.78-7.78 2.81-2.81c.8-.78.8-2.07 0-2.86zM5.41 20L4 18.59l7.72-7.72 1.47 1.35L5.41 20z\"/>\n",
              "  </svg>\n",
              "      </button>\n",
              "      \n",
              "  <style>\n",
              "    .colab-df-container {\n",
              "      display:flex;\n",
              "      flex-wrap:wrap;\n",
              "      gap: 12px;\n",
              "    }\n",
              "\n",
              "    .colab-df-convert {\n",
              "      background-color: #E8F0FE;\n",
              "      border: none;\n",
              "      border-radius: 50%;\n",
              "      cursor: pointer;\n",
              "      display: none;\n",
              "      fill: #1967D2;\n",
              "      height: 32px;\n",
              "      padding: 0 0 0 0;\n",
              "      width: 32px;\n",
              "    }\n",
              "\n",
              "    .colab-df-convert:hover {\n",
              "      background-color: #E2EBFA;\n",
              "      box-shadow: 0px 1px 2px rgba(60, 64, 67, 0.3), 0px 1px 3px 1px rgba(60, 64, 67, 0.15);\n",
              "      fill: #174EA6;\n",
              "    }\n",
              "\n",
              "    [theme=dark] .colab-df-convert {\n",
              "      background-color: #3B4455;\n",
              "      fill: #D2E3FC;\n",
              "    }\n",
              "\n",
              "    [theme=dark] .colab-df-convert:hover {\n",
              "      background-color: #434B5C;\n",
              "      box-shadow: 0px 1px 3px 1px rgba(0, 0, 0, 0.15);\n",
              "      filter: drop-shadow(0px 1px 2px rgba(0, 0, 0, 0.3));\n",
              "      fill: #FFFFFF;\n",
              "    }\n",
              "  </style>\n",
              "\n",
              "      <script>\n",
              "        const buttonEl =\n",
              "          document.querySelector('#df-fc0f07f8-45e7-4c53-95d0-de53d00f6c4a button.colab-df-convert');\n",
              "        buttonEl.style.display =\n",
              "          google.colab.kernel.accessAllowed ? 'block' : 'none';\n",
              "\n",
              "        async function convertToInteractive(key) {\n",
              "          const element = document.querySelector('#df-fc0f07f8-45e7-4c53-95d0-de53d00f6c4a');\n",
              "          const dataTable =\n",
              "            await google.colab.kernel.invokeFunction('convertToInteractive',\n",
              "                                                     [key], {});\n",
              "          if (!dataTable) return;\n",
              "\n",
              "          const docLinkHtml = 'Like what you see? Visit the ' +\n",
              "            '<a target=\"_blank\" href=https://colab.research.google.com/notebooks/data_table.ipynb>data table notebook</a>'\n",
              "            + ' to learn more about interactive tables.';\n",
              "          element.innerHTML = '';\n",
              "          dataTable['output_type'] = 'display_data';\n",
              "          await google.colab.output.renderOutput(dataTable, element);\n",
              "          const docLink = document.createElement('div');\n",
              "          docLink.innerHTML = docLinkHtml;\n",
              "          element.appendChild(docLink);\n",
              "        }\n",
              "      </script>\n",
              "    </div>\n",
              "  </div>\n",
              "  "
            ]
          },
          "metadata": {},
          "execution_count": 28
        }
      ]
    },
    {
      "cell_type": "code",
      "source": [
        "from sklearn.preprocessing import MinMaxScaler\n",
        "scaler=MinMaxScaler(feature_range=(0,1))\n",
        "scaled_df=pd.DataFrame(scaler.fit_transform(new_df),columns=new_df.columns)\n",
        "scaled_df.drop([ 'z_totChol','z_sysBP', 'z_BMI', 'z_glucose'],axis=1,inplace=True)\n",
        "# scaled_df\n",
        "print(scaled_df.describe())"
      ],
      "metadata": {
        "colab": {
          "base_uri": "https://localhost:8080/"
        },
        "id": "1RGyOlCJqzGg",
        "outputId": "9d13ce58-ff99-4a43-c436-e31b6d05677b"
      },
      "execution_count": null,
      "outputs": [
        {
          "output_type": "stream",
          "name": "stdout",
          "text": [
            "              male          age  currentSmoker       BPMeds  prevalentStroke  \\\n",
            "count  3620.000000  3620.000000    3620.000000  3620.000000      3620.000000   \n",
            "mean      0.451381     0.456833       0.498343     0.026243         0.004972   \n",
            "std       0.497699     0.224060       0.500066     0.159880         0.070349   \n",
            "min       0.000000     0.000000       0.000000     0.000000         0.000000   \n",
            "25%       0.000000     0.263158       0.000000     0.000000         0.000000   \n",
            "50%       0.000000     0.421053       0.000000     0.000000         0.000000   \n",
            "75%       1.000000     0.631579       1.000000     0.000000         0.000000   \n",
            "max       1.000000     1.000000       1.000000     1.000000         1.000000   \n",
            "\n",
            "       prevalentHyp     diabetes      totChol        sysBP          BMI  \\\n",
            "count   3620.000000  3620.000000  3620.000000  3620.000000  3620.000000   \n",
            "mean       0.293646     0.012983     0.476763     0.414055     0.455061   \n",
            "std        0.455495     0.113218     0.162990     0.173527     0.164869   \n",
            "min        0.000000     0.000000     0.000000     0.000000     0.000000   \n",
            "25%        0.000000     0.000000     0.357977     0.283843     0.341198   \n",
            "50%        0.000000     0.000000     0.466926     0.388646     0.444192   \n",
            "75%        1.000000     0.000000     0.579767     0.510917     0.561252   \n",
            "max        1.000000     1.000000     1.000000     1.000000     1.000000   \n",
            "\n",
            "         heartRate      glucose   TenYearCHD  \n",
            "count  3620.000000  3620.000000  3620.000000  \n",
            "mean      0.317668     0.361133     0.141160  \n",
            "std       0.119622     0.122007     0.348235  \n",
            "min       0.000000     0.000000     0.000000  \n",
            "25%       0.232323     0.281818     0.000000  \n",
            "50%       0.313131     0.345455     0.000000  \n",
            "75%       0.383838     0.418182     0.000000  \n",
            "max       1.000000     1.000000     1.000000  \n"
          ]
        }
      ]
    },
    {
      "cell_type": "code",
      "source": [
        "print(df[df['TenYearCHD']==0].shape)\n",
        "df[df['TenYearCHD']==1].shape"
      ],
      "metadata": {
        "id": "n97yl35194eU",
        "colab": {
          "base_uri": "https://localhost:8080/"
        },
        "outputId": "f9fc8f8b-f2f0-4030-f6c2-5781c5494db3"
      },
      "execution_count": null,
      "outputs": [
        {
          "output_type": "stream",
          "name": "stdout",
          "text": [
            "(3200, 17)\n"
          ]
        },
        {
          "output_type": "execute_result",
          "data": {
            "text/plain": [
              "(574, 17)"
            ]
          },
          "metadata": {},
          "execution_count": 25
        }
      ]
    },
    {
      "cell_type": "code",
      "source": [
        "3200/574"
      ],
      "metadata": {
        "colab": {
          "base_uri": "https://localhost:8080/"
        },
        "id": "ebtSuvMUFF9F",
        "outputId": "710c136b-2975-4fc3-b71a-253be1236b5f"
      },
      "execution_count": null,
      "outputs": [
        {
          "output_type": "execute_result",
          "data": {
            "text/plain": [
              "5.574912891986063"
            ]
          },
          "metadata": {},
          "execution_count": 31
        }
      ]
    },
    {
      "cell_type": "markdown",
      "source": [
        "<h1>**Handling Imbalanced Data**"
      ],
      "metadata": {
        "id": "h14CAdfuSh6o"
      }
    },
    {
      "cell_type": "markdown",
      "source": [
        "<h3>1. Using KFold and GridSearchCV"
      ],
      "metadata": {
        "id": "x0jDdMk3SsbH"
      }
    },
    {
      "cell_type": "code",
      "source": [
        "from sklearn.linear_model import LogisticRegression\n",
        "from sklearn.metrics import accuracy_score,confusion_matrix,classification_report\n",
        "from sklearn.model_selection import KFold\n",
        "from sklearn.model_selection import GridSearchCV\n",
        "import numpy as np"
      ],
      "metadata": {
        "id": "LQZVPHtL8hRT"
      },
      "execution_count": null,
      "outputs": []
    },
    {
      "cell_type": "code",
      "source": [
        "y=df['TenYearCHD']\n",
        "df.drop(columns=['TenYearCHD'],inplace=True)\n"
      ],
      "metadata": {
        "id": "sRvCQUKGFiNR"
      },
      "execution_count": null,
      "outputs": []
    },
    {
      "cell_type": "code",
      "source": [
        "x=df"
      ],
      "metadata": {
        "id": "8Z5m0aC1J43-"
      },
      "execution_count": null,
      "outputs": []
    },
    {
      "cell_type": "code",
      "source": [
        "from sklearn.model_selection import train_test_split\n",
        "x_train,x_test,y_train,y_test=train_test_split(x,y,test_size=0.2,stratify=y)"
      ],
      "metadata": {
        "id": "7JG8BJC0HUb_"
      },
      "execution_count": null,
      "outputs": []
    },
    {
      "cell_type": "code",
      "source": [
        "log=LogisticRegression()\n",
        "grid={'C':10*np.arange(1,10),'penalty':['l1','l2']}\n",
        "cv=KFold(n_splits=5)\n",
        "\n",
        "clf=GridSearchCV(log,grid,cv=cv)\n",
        "clf.fit(x_train,y_train)"
      ],
      "metadata": {
        "id": "_XQ2avo3KAiQ"
      },
      "execution_count": null,
      "outputs": []
    },
    {
      "cell_type": "code",
      "source": [
        "y_pred=clf.predict(x_test)\n",
        "accuracy_score(y_test,y_pred)"
      ],
      "metadata": {
        "colab": {
          "base_uri": "https://localhost:8080/"
        },
        "id": "ExuMfmyOKAqi",
        "outputId": "20521251-8c19-4f5e-9f53-b970cc218bad"
      },
      "execution_count": null,
      "outputs": [
        {
          "output_type": "execute_result",
          "data": {
            "text/plain": [
              "0.8410596026490066"
            ]
          },
          "metadata": {},
          "execution_count": 31
        }
      ]
    },
    {
      "cell_type": "code",
      "source": [
        "confusion_matrix(y_test,y_pred)"
      ],
      "metadata": {
        "colab": {
          "base_uri": "https://localhost:8080/"
        },
        "id": "HA_Ib5eXKAta",
        "outputId": "e772c301-f84d-40fd-9b1c-b80dd9535d3d"
      },
      "execution_count": null,
      "outputs": [
        {
          "output_type": "execute_result",
          "data": {
            "text/plain": [
              "array([[628,  12],\n",
              "       [108,   7]])"
            ]
          },
          "metadata": {},
          "execution_count": 32
        }
      ]
    },
    {
      "cell_type": "code",
      "source": [
        "print(classification_report(y_test,y_pred))"
      ],
      "metadata": {
        "colab": {
          "base_uri": "https://localhost:8080/"
        },
        "id": "u1L4vSkgOFnF",
        "outputId": "304b8313-8209-470b-d5f6-9aba7b4b2af8"
      },
      "execution_count": null,
      "outputs": [
        {
          "output_type": "stream",
          "name": "stdout",
          "text": [
            "              precision    recall  f1-score   support\n",
            "\n",
            "           0       0.85      0.98      0.91       640\n",
            "           1       0.37      0.06      0.10       115\n",
            "\n",
            "    accuracy                           0.84       755\n",
            "   macro avg       0.61      0.52      0.51       755\n",
            "weighted avg       0.78      0.84      0.79       755\n",
            "\n"
          ]
        }
      ]
    },
    {
      "cell_type": "code",
      "source": [
        "pd.DataFrame(clf.cv_results_)"
      ],
      "metadata": {
        "id": "kNUEM3p9O8Vs",
        "colab": {
          "base_uri": "https://localhost:8080/",
          "height": 1000
        },
        "outputId": "4ca7c618-0dea-436d-d8f1-19325274994a"
      },
      "execution_count": null,
      "outputs": [
        {
          "output_type": "execute_result",
          "data": {
            "text/plain": [
              "    mean_fit_time  std_fit_time  mean_score_time  std_score_time param_C  \\\n",
              "0        0.001298      0.000187         0.000000        0.000000      10   \n",
              "1        0.073739      0.006216         0.004018        0.001622      10   \n",
              "2        0.000716      0.000063         0.000000        0.000000      20   \n",
              "3        0.070429      0.004723         0.003833        0.000683      20   \n",
              "4        0.000788      0.000167         0.000000        0.000000      30   \n",
              "5        0.065140      0.003098         0.003908        0.002045      30   \n",
              "6        0.000761      0.000100         0.000000        0.000000      40   \n",
              "7        0.069332      0.001364         0.003047        0.000201      40   \n",
              "8        0.000800      0.000083         0.000000        0.000000      50   \n",
              "9        0.072108      0.005298         0.003200        0.000454      50   \n",
              "10       0.000705      0.000046         0.000000        0.000000      60   \n",
              "11       0.074748      0.006415         0.003481        0.000602      60   \n",
              "12       0.002794      0.003623         0.000000        0.000000      70   \n",
              "13       0.069846      0.010596         0.003674        0.002044      70   \n",
              "14       0.000837      0.000198         0.000000        0.000000      80   \n",
              "15       0.070342      0.005308         0.002901        0.000342      80   \n",
              "16       0.000776      0.000093         0.000000        0.000000      90   \n",
              "17       0.068874      0.009186         0.002666        0.000169      90   \n",
              "\n",
              "   param_penalty                      params  split0_test_score  \\\n",
              "0             l1  {'C': 10, 'penalty': 'l1'}                NaN   \n",
              "1             l2  {'C': 10, 'penalty': 'l2'}           0.850993   \n",
              "2             l1  {'C': 20, 'penalty': 'l1'}                NaN   \n",
              "3             l2  {'C': 20, 'penalty': 'l2'}           0.850993   \n",
              "4             l1  {'C': 30, 'penalty': 'l1'}                NaN   \n",
              "5             l2  {'C': 30, 'penalty': 'l2'}           0.850993   \n",
              "6             l1  {'C': 40, 'penalty': 'l1'}                NaN   \n",
              "7             l2  {'C': 40, 'penalty': 'l2'}           0.850993   \n",
              "8             l1  {'C': 50, 'penalty': 'l1'}                NaN   \n",
              "9             l2  {'C': 50, 'penalty': 'l2'}           0.850993   \n",
              "10            l1  {'C': 60, 'penalty': 'l1'}                NaN   \n",
              "11            l2  {'C': 60, 'penalty': 'l2'}           0.850993   \n",
              "12            l1  {'C': 70, 'penalty': 'l1'}                NaN   \n",
              "13            l2  {'C': 70, 'penalty': 'l2'}           0.849338   \n",
              "14            l1  {'C': 80, 'penalty': 'l1'}                NaN   \n",
              "15            l2  {'C': 80, 'penalty': 'l2'}           0.850993   \n",
              "16            l1  {'C': 90, 'penalty': 'l1'}                NaN   \n",
              "17            l2  {'C': 90, 'penalty': 'l2'}           0.850993   \n",
              "\n",
              "    split1_test_score  split2_test_score  split3_test_score  \\\n",
              "0                 NaN                NaN                NaN   \n",
              "1            0.837748           0.864238           0.852649   \n",
              "2                 NaN                NaN                NaN   \n",
              "3            0.839404           0.862583           0.852649   \n",
              "4                 NaN                NaN                NaN   \n",
              "5            0.837748           0.860927           0.852649   \n",
              "6                 NaN                NaN                NaN   \n",
              "7            0.839404           0.862583           0.850993   \n",
              "8                 NaN                NaN                NaN   \n",
              "9            0.839404           0.862583           0.850993   \n",
              "10                NaN                NaN                NaN   \n",
              "11           0.837748           0.864238           0.852649   \n",
              "12                NaN                NaN                NaN   \n",
              "13           0.837748           0.860927           0.850993   \n",
              "14                NaN                NaN                NaN   \n",
              "15           0.837748           0.860927           0.852649   \n",
              "16                NaN                NaN                NaN   \n",
              "17           0.837748           0.864238           0.852649   \n",
              "\n",
              "    split4_test_score  mean_test_score  std_test_score  rank_test_score  \n",
              "0                 NaN              NaN             NaN               12  \n",
              "1            0.849088         0.850943        0.008452                1  \n",
              "2                 NaN              NaN             NaN               16  \n",
              "3            0.849088         0.850943        0.007416                1  \n",
              "4                 NaN              NaN             NaN               15  \n",
              "5            0.850746         0.850613        0.007432                4  \n",
              "6                 NaN              NaN             NaN               14  \n",
              "7            0.849088         0.850612        0.007369                5  \n",
              "8                 NaN              NaN             NaN               18  \n",
              "9            0.847430         0.850281        0.007467                8  \n",
              "10                NaN              NaN             NaN               17  \n",
              "11           0.847430         0.850612        0.008551                6  \n",
              "12                NaN              NaN             NaN               11  \n",
              "13           0.849088         0.849619        0.007363                9  \n",
              "14                NaN              NaN             NaN               10  \n",
              "15           0.849088         0.850281        0.007456                7  \n",
              "16                NaN              NaN             NaN               13  \n",
              "17           0.849088         0.850943        0.008452                1  "
            ],
            "text/html": [
              "\n",
              "  <div id=\"df-dd6a162f-567c-447b-b065-d578cbb6c24e\">\n",
              "    <div class=\"colab-df-container\">\n",
              "      <div>\n",
              "<style scoped>\n",
              "    .dataframe tbody tr th:only-of-type {\n",
              "        vertical-align: middle;\n",
              "    }\n",
              "\n",
              "    .dataframe tbody tr th {\n",
              "        vertical-align: top;\n",
              "    }\n",
              "\n",
              "    .dataframe thead th {\n",
              "        text-align: right;\n",
              "    }\n",
              "</style>\n",
              "<table border=\"1\" class=\"dataframe\">\n",
              "  <thead>\n",
              "    <tr style=\"text-align: right;\">\n",
              "      <th></th>\n",
              "      <th>mean_fit_time</th>\n",
              "      <th>std_fit_time</th>\n",
              "      <th>mean_score_time</th>\n",
              "      <th>std_score_time</th>\n",
              "      <th>param_C</th>\n",
              "      <th>param_penalty</th>\n",
              "      <th>params</th>\n",
              "      <th>split0_test_score</th>\n",
              "      <th>split1_test_score</th>\n",
              "      <th>split2_test_score</th>\n",
              "      <th>split3_test_score</th>\n",
              "      <th>split4_test_score</th>\n",
              "      <th>mean_test_score</th>\n",
              "      <th>std_test_score</th>\n",
              "      <th>rank_test_score</th>\n",
              "    </tr>\n",
              "  </thead>\n",
              "  <tbody>\n",
              "    <tr>\n",
              "      <th>0</th>\n",
              "      <td>0.001298</td>\n",
              "      <td>0.000187</td>\n",
              "      <td>0.000000</td>\n",
              "      <td>0.000000</td>\n",
              "      <td>10</td>\n",
              "      <td>l1</td>\n",
              "      <td>{'C': 10, 'penalty': 'l1'}</td>\n",
              "      <td>NaN</td>\n",
              "      <td>NaN</td>\n",
              "      <td>NaN</td>\n",
              "      <td>NaN</td>\n",
              "      <td>NaN</td>\n",
              "      <td>NaN</td>\n",
              "      <td>NaN</td>\n",
              "      <td>12</td>\n",
              "    </tr>\n",
              "    <tr>\n",
              "      <th>1</th>\n",
              "      <td>0.073739</td>\n",
              "      <td>0.006216</td>\n",
              "      <td>0.004018</td>\n",
              "      <td>0.001622</td>\n",
              "      <td>10</td>\n",
              "      <td>l2</td>\n",
              "      <td>{'C': 10, 'penalty': 'l2'}</td>\n",
              "      <td>0.850993</td>\n",
              "      <td>0.837748</td>\n",
              "      <td>0.864238</td>\n",
              "      <td>0.852649</td>\n",
              "      <td>0.849088</td>\n",
              "      <td>0.850943</td>\n",
              "      <td>0.008452</td>\n",
              "      <td>1</td>\n",
              "    </tr>\n",
              "    <tr>\n",
              "      <th>2</th>\n",
              "      <td>0.000716</td>\n",
              "      <td>0.000063</td>\n",
              "      <td>0.000000</td>\n",
              "      <td>0.000000</td>\n",
              "      <td>20</td>\n",
              "      <td>l1</td>\n",
              "      <td>{'C': 20, 'penalty': 'l1'}</td>\n",
              "      <td>NaN</td>\n",
              "      <td>NaN</td>\n",
              "      <td>NaN</td>\n",
              "      <td>NaN</td>\n",
              "      <td>NaN</td>\n",
              "      <td>NaN</td>\n",
              "      <td>NaN</td>\n",
              "      <td>16</td>\n",
              "    </tr>\n",
              "    <tr>\n",
              "      <th>3</th>\n",
              "      <td>0.070429</td>\n",
              "      <td>0.004723</td>\n",
              "      <td>0.003833</td>\n",
              "      <td>0.000683</td>\n",
              "      <td>20</td>\n",
              "      <td>l2</td>\n",
              "      <td>{'C': 20, 'penalty': 'l2'}</td>\n",
              "      <td>0.850993</td>\n",
              "      <td>0.839404</td>\n",
              "      <td>0.862583</td>\n",
              "      <td>0.852649</td>\n",
              "      <td>0.849088</td>\n",
              "      <td>0.850943</td>\n",
              "      <td>0.007416</td>\n",
              "      <td>1</td>\n",
              "    </tr>\n",
              "    <tr>\n",
              "      <th>4</th>\n",
              "      <td>0.000788</td>\n",
              "      <td>0.000167</td>\n",
              "      <td>0.000000</td>\n",
              "      <td>0.000000</td>\n",
              "      <td>30</td>\n",
              "      <td>l1</td>\n",
              "      <td>{'C': 30, 'penalty': 'l1'}</td>\n",
              "      <td>NaN</td>\n",
              "      <td>NaN</td>\n",
              "      <td>NaN</td>\n",
              "      <td>NaN</td>\n",
              "      <td>NaN</td>\n",
              "      <td>NaN</td>\n",
              "      <td>NaN</td>\n",
              "      <td>15</td>\n",
              "    </tr>\n",
              "    <tr>\n",
              "      <th>5</th>\n",
              "      <td>0.065140</td>\n",
              "      <td>0.003098</td>\n",
              "      <td>0.003908</td>\n",
              "      <td>0.002045</td>\n",
              "      <td>30</td>\n",
              "      <td>l2</td>\n",
              "      <td>{'C': 30, 'penalty': 'l2'}</td>\n",
              "      <td>0.850993</td>\n",
              "      <td>0.837748</td>\n",
              "      <td>0.860927</td>\n",
              "      <td>0.852649</td>\n",
              "      <td>0.850746</td>\n",
              "      <td>0.850613</td>\n",
              "      <td>0.007432</td>\n",
              "      <td>4</td>\n",
              "    </tr>\n",
              "    <tr>\n",
              "      <th>6</th>\n",
              "      <td>0.000761</td>\n",
              "      <td>0.000100</td>\n",
              "      <td>0.000000</td>\n",
              "      <td>0.000000</td>\n",
              "      <td>40</td>\n",
              "      <td>l1</td>\n",
              "      <td>{'C': 40, 'penalty': 'l1'}</td>\n",
              "      <td>NaN</td>\n",
              "      <td>NaN</td>\n",
              "      <td>NaN</td>\n",
              "      <td>NaN</td>\n",
              "      <td>NaN</td>\n",
              "      <td>NaN</td>\n",
              "      <td>NaN</td>\n",
              "      <td>14</td>\n",
              "    </tr>\n",
              "    <tr>\n",
              "      <th>7</th>\n",
              "      <td>0.069332</td>\n",
              "      <td>0.001364</td>\n",
              "      <td>0.003047</td>\n",
              "      <td>0.000201</td>\n",
              "      <td>40</td>\n",
              "      <td>l2</td>\n",
              "      <td>{'C': 40, 'penalty': 'l2'}</td>\n",
              "      <td>0.850993</td>\n",
              "      <td>0.839404</td>\n",
              "      <td>0.862583</td>\n",
              "      <td>0.850993</td>\n",
              "      <td>0.849088</td>\n",
              "      <td>0.850612</td>\n",
              "      <td>0.007369</td>\n",
              "      <td>5</td>\n",
              "    </tr>\n",
              "    <tr>\n",
              "      <th>8</th>\n",
              "      <td>0.000800</td>\n",
              "      <td>0.000083</td>\n",
              "      <td>0.000000</td>\n",
              "      <td>0.000000</td>\n",
              "      <td>50</td>\n",
              "      <td>l1</td>\n",
              "      <td>{'C': 50, 'penalty': 'l1'}</td>\n",
              "      <td>NaN</td>\n",
              "      <td>NaN</td>\n",
              "      <td>NaN</td>\n",
              "      <td>NaN</td>\n",
              "      <td>NaN</td>\n",
              "      <td>NaN</td>\n",
              "      <td>NaN</td>\n",
              "      <td>18</td>\n",
              "    </tr>\n",
              "    <tr>\n",
              "      <th>9</th>\n",
              "      <td>0.072108</td>\n",
              "      <td>0.005298</td>\n",
              "      <td>0.003200</td>\n",
              "      <td>0.000454</td>\n",
              "      <td>50</td>\n",
              "      <td>l2</td>\n",
              "      <td>{'C': 50, 'penalty': 'l2'}</td>\n",
              "      <td>0.850993</td>\n",
              "      <td>0.839404</td>\n",
              "      <td>0.862583</td>\n",
              "      <td>0.850993</td>\n",
              "      <td>0.847430</td>\n",
              "      <td>0.850281</td>\n",
              "      <td>0.007467</td>\n",
              "      <td>8</td>\n",
              "    </tr>\n",
              "    <tr>\n",
              "      <th>10</th>\n",
              "      <td>0.000705</td>\n",
              "      <td>0.000046</td>\n",
              "      <td>0.000000</td>\n",
              "      <td>0.000000</td>\n",
              "      <td>60</td>\n",
              "      <td>l1</td>\n",
              "      <td>{'C': 60, 'penalty': 'l1'}</td>\n",
              "      <td>NaN</td>\n",
              "      <td>NaN</td>\n",
              "      <td>NaN</td>\n",
              "      <td>NaN</td>\n",
              "      <td>NaN</td>\n",
              "      <td>NaN</td>\n",
              "      <td>NaN</td>\n",
              "      <td>17</td>\n",
              "    </tr>\n",
              "    <tr>\n",
              "      <th>11</th>\n",
              "      <td>0.074748</td>\n",
              "      <td>0.006415</td>\n",
              "      <td>0.003481</td>\n",
              "      <td>0.000602</td>\n",
              "      <td>60</td>\n",
              "      <td>l2</td>\n",
              "      <td>{'C': 60, 'penalty': 'l2'}</td>\n",
              "      <td>0.850993</td>\n",
              "      <td>0.837748</td>\n",
              "      <td>0.864238</td>\n",
              "      <td>0.852649</td>\n",
              "      <td>0.847430</td>\n",
              "      <td>0.850612</td>\n",
              "      <td>0.008551</td>\n",
              "      <td>6</td>\n",
              "    </tr>\n",
              "    <tr>\n",
              "      <th>12</th>\n",
              "      <td>0.002794</td>\n",
              "      <td>0.003623</td>\n",
              "      <td>0.000000</td>\n",
              "      <td>0.000000</td>\n",
              "      <td>70</td>\n",
              "      <td>l1</td>\n",
              "      <td>{'C': 70, 'penalty': 'l1'}</td>\n",
              "      <td>NaN</td>\n",
              "      <td>NaN</td>\n",
              "      <td>NaN</td>\n",
              "      <td>NaN</td>\n",
              "      <td>NaN</td>\n",
              "      <td>NaN</td>\n",
              "      <td>NaN</td>\n",
              "      <td>11</td>\n",
              "    </tr>\n",
              "    <tr>\n",
              "      <th>13</th>\n",
              "      <td>0.069846</td>\n",
              "      <td>0.010596</td>\n",
              "      <td>0.003674</td>\n",
              "      <td>0.002044</td>\n",
              "      <td>70</td>\n",
              "      <td>l2</td>\n",
              "      <td>{'C': 70, 'penalty': 'l2'}</td>\n",
              "      <td>0.849338</td>\n",
              "      <td>0.837748</td>\n",
              "      <td>0.860927</td>\n",
              "      <td>0.850993</td>\n",
              "      <td>0.849088</td>\n",
              "      <td>0.849619</td>\n",
              "      <td>0.007363</td>\n",
              "      <td>9</td>\n",
              "    </tr>\n",
              "    <tr>\n",
              "      <th>14</th>\n",
              "      <td>0.000837</td>\n",
              "      <td>0.000198</td>\n",
              "      <td>0.000000</td>\n",
              "      <td>0.000000</td>\n",
              "      <td>80</td>\n",
              "      <td>l1</td>\n",
              "      <td>{'C': 80, 'penalty': 'l1'}</td>\n",
              "      <td>NaN</td>\n",
              "      <td>NaN</td>\n",
              "      <td>NaN</td>\n",
              "      <td>NaN</td>\n",
              "      <td>NaN</td>\n",
              "      <td>NaN</td>\n",
              "      <td>NaN</td>\n",
              "      <td>10</td>\n",
              "    </tr>\n",
              "    <tr>\n",
              "      <th>15</th>\n",
              "      <td>0.070342</td>\n",
              "      <td>0.005308</td>\n",
              "      <td>0.002901</td>\n",
              "      <td>0.000342</td>\n",
              "      <td>80</td>\n",
              "      <td>l2</td>\n",
              "      <td>{'C': 80, 'penalty': 'l2'}</td>\n",
              "      <td>0.850993</td>\n",
              "      <td>0.837748</td>\n",
              "      <td>0.860927</td>\n",
              "      <td>0.852649</td>\n",
              "      <td>0.849088</td>\n",
              "      <td>0.850281</td>\n",
              "      <td>0.007456</td>\n",
              "      <td>7</td>\n",
              "    </tr>\n",
              "    <tr>\n",
              "      <th>16</th>\n",
              "      <td>0.000776</td>\n",
              "      <td>0.000093</td>\n",
              "      <td>0.000000</td>\n",
              "      <td>0.000000</td>\n",
              "      <td>90</td>\n",
              "      <td>l1</td>\n",
              "      <td>{'C': 90, 'penalty': 'l1'}</td>\n",
              "      <td>NaN</td>\n",
              "      <td>NaN</td>\n",
              "      <td>NaN</td>\n",
              "      <td>NaN</td>\n",
              "      <td>NaN</td>\n",
              "      <td>NaN</td>\n",
              "      <td>NaN</td>\n",
              "      <td>13</td>\n",
              "    </tr>\n",
              "    <tr>\n",
              "      <th>17</th>\n",
              "      <td>0.068874</td>\n",
              "      <td>0.009186</td>\n",
              "      <td>0.002666</td>\n",
              "      <td>0.000169</td>\n",
              "      <td>90</td>\n",
              "      <td>l2</td>\n",
              "      <td>{'C': 90, 'penalty': 'l2'}</td>\n",
              "      <td>0.850993</td>\n",
              "      <td>0.837748</td>\n",
              "      <td>0.864238</td>\n",
              "      <td>0.852649</td>\n",
              "      <td>0.849088</td>\n",
              "      <td>0.850943</td>\n",
              "      <td>0.008452</td>\n",
              "      <td>1</td>\n",
              "    </tr>\n",
              "  </tbody>\n",
              "</table>\n",
              "</div>\n",
              "      <button class=\"colab-df-convert\" onclick=\"convertToInteractive('df-dd6a162f-567c-447b-b065-d578cbb6c24e')\"\n",
              "              title=\"Convert this dataframe to an interactive table.\"\n",
              "              style=\"display:none;\">\n",
              "        \n",
              "  <svg xmlns=\"http://www.w3.org/2000/svg\" height=\"24px\"viewBox=\"0 0 24 24\"\n",
              "       width=\"24px\">\n",
              "    <path d=\"M0 0h24v24H0V0z\" fill=\"none\"/>\n",
              "    <path d=\"M18.56 5.44l.94 2.06.94-2.06 2.06-.94-2.06-.94-.94-2.06-.94 2.06-2.06.94zm-11 1L8.5 8.5l.94-2.06 2.06-.94-2.06-.94L8.5 2.5l-.94 2.06-2.06.94zm10 10l.94 2.06.94-2.06 2.06-.94-2.06-.94-.94-2.06-.94 2.06-2.06.94z\"/><path d=\"M17.41 7.96l-1.37-1.37c-.4-.4-.92-.59-1.43-.59-.52 0-1.04.2-1.43.59L10.3 9.45l-7.72 7.72c-.78.78-.78 2.05 0 2.83L4 21.41c.39.39.9.59 1.41.59.51 0 1.02-.2 1.41-.59l7.78-7.78 2.81-2.81c.8-.78.8-2.07 0-2.86zM5.41 20L4 18.59l7.72-7.72 1.47 1.35L5.41 20z\"/>\n",
              "  </svg>\n",
              "      </button>\n",
              "      \n",
              "  <style>\n",
              "    .colab-df-container {\n",
              "      display:flex;\n",
              "      flex-wrap:wrap;\n",
              "      gap: 12px;\n",
              "    }\n",
              "\n",
              "    .colab-df-convert {\n",
              "      background-color: #E8F0FE;\n",
              "      border: none;\n",
              "      border-radius: 50%;\n",
              "      cursor: pointer;\n",
              "      display: none;\n",
              "      fill: #1967D2;\n",
              "      height: 32px;\n",
              "      padding: 0 0 0 0;\n",
              "      width: 32px;\n",
              "    }\n",
              "\n",
              "    .colab-df-convert:hover {\n",
              "      background-color: #E2EBFA;\n",
              "      box-shadow: 0px 1px 2px rgba(60, 64, 67, 0.3), 0px 1px 3px 1px rgba(60, 64, 67, 0.15);\n",
              "      fill: #174EA6;\n",
              "    }\n",
              "\n",
              "    [theme=dark] .colab-df-convert {\n",
              "      background-color: #3B4455;\n",
              "      fill: #D2E3FC;\n",
              "    }\n",
              "\n",
              "    [theme=dark] .colab-df-convert:hover {\n",
              "      background-color: #434B5C;\n",
              "      box-shadow: 0px 1px 3px 1px rgba(0, 0, 0, 0.15);\n",
              "      filter: drop-shadow(0px 1px 2px rgba(0, 0, 0, 0.3));\n",
              "      fill: #FFFFFF;\n",
              "    }\n",
              "  </style>\n",
              "\n",
              "      <script>\n",
              "        const buttonEl =\n",
              "          document.querySelector('#df-dd6a162f-567c-447b-b065-d578cbb6c24e button.colab-df-convert');\n",
              "        buttonEl.style.display =\n",
              "          google.colab.kernel.accessAllowed ? 'block' : 'none';\n",
              "\n",
              "        async function convertToInteractive(key) {\n",
              "          const element = document.querySelector('#df-dd6a162f-567c-447b-b065-d578cbb6c24e');\n",
              "          const dataTable =\n",
              "            await google.colab.kernel.invokeFunction('convertToInteractive',\n",
              "                                                     [key], {});\n",
              "          if (!dataTable) return;\n",
              "\n",
              "          const docLinkHtml = 'Like what you see? Visit the ' +\n",
              "            '<a target=\"_blank\" href=https://colab.research.google.com/notebooks/data_table.ipynb>data table notebook</a>'\n",
              "            + ' to learn more about interactive tables.';\n",
              "          element.innerHTML = '';\n",
              "          dataTable['output_type'] = 'display_data';\n",
              "          await google.colab.output.renderOutput(dataTable, element);\n",
              "          const docLink = document.createElement('div');\n",
              "          docLink.innerHTML = docLinkHtml;\n",
              "          element.appendChild(docLink);\n",
              "        }\n",
              "      </script>\n",
              "    </div>\n",
              "  </div>\n",
              "  "
            ]
          },
          "metadata": {},
          "execution_count": 34
        }
      ]
    },
    {
      "cell_type": "code",
      "source": [
        "print(clf.best_params_)\n",
        "print(clf.best_score_)"
      ],
      "metadata": {
        "colab": {
          "base_uri": "https://localhost:8080/"
        },
        "id": "O7Ai9EMkPjLu",
        "outputId": "f8a2cb41-72a6-4467-f851-a7195e5a5e6a"
      },
      "execution_count": null,
      "outputs": [
        {
          "output_type": "stream",
          "name": "stdout",
          "text": [
            "{'C': 10, 'penalty': 'l2'}\n",
            "0.8509434065873721\n"
          ]
        }
      ]
    },
    {
      "cell_type": "code",
      "source": [
        "dir(clf)"
      ],
      "metadata": {
        "id": "yof_MG0EOzLM"
      },
      "execution_count": null,
      "outputs": []
    },
    {
      "cell_type": "code",
      "source": [
        "df.columns"
      ],
      "metadata": {
        "colab": {
          "base_uri": "https://localhost:8080/"
        },
        "id": "4XDKPDPJIVqf",
        "outputId": "a9dd8ffd-3833-4688-f314-43152616cad6"
      },
      "execution_count": null,
      "outputs": [
        {
          "output_type": "execute_result",
          "data": {
            "text/plain": [
              "Index(['male', 'age', 'BPMeds', 'prevalentStroke', 'prevalentHyp', 'diabetes',\n",
              "       'totChol', 'sysBP', 'BMI', 'glucose', 'z_totChol', 'z_sysBP', 'z_BMI',\n",
              "       'z_glucose'],\n",
              "      dtype='object')"
            ]
          },
          "metadata": {},
          "execution_count": 65
        }
      ]
    },
    {
      "cell_type": "markdown",
      "source": [
        "<h3>2. Using Ensemble Technique"
      ],
      "metadata": {
        "id": "rviwtAruS4-L"
      }
    },
    {
      "cell_type": "code",
      "source": [
        "from sklearn.ensemble import RandomForestClassifier\n",
        "\n",
        "rf=RandomForestClassifier()\n",
        "rf.fit(x_train,y_train)"
      ],
      "metadata": {
        "colab": {
          "base_uri": "https://localhost:8080/"
        },
        "id": "dkDgDWxfOFrY",
        "outputId": "0aaba607-ceb7-4b36-fba7-1b945c576fa7"
      },
      "execution_count": null,
      "outputs": [
        {
          "output_type": "execute_result",
          "data": {
            "text/plain": [
              "RandomForestClassifier()"
            ]
          },
          "metadata": {},
          "execution_count": 36
        }
      ]
    },
    {
      "cell_type": "code",
      "source": [
        "y_pred=rf.predict(x_test)"
      ],
      "metadata": {
        "id": "RZUs3nikJbN7"
      },
      "execution_count": null,
      "outputs": []
    },
    {
      "cell_type": "code",
      "source": [
        "confusion_matrix(y_test,y_pred)"
      ],
      "metadata": {
        "colab": {
          "base_uri": "https://localhost:8080/"
        },
        "id": "AgyKXWkvTfVR",
        "outputId": "95ffe446-d58e-4f9a-d3a6-1b2d79919135"
      },
      "execution_count": null,
      "outputs": [
        {
          "output_type": "execute_result",
          "data": {
            "text/plain": [
              "array([[629,  11],\n",
              "       [107,   8]])"
            ]
          },
          "metadata": {},
          "execution_count": 38
        }
      ]
    },
    {
      "cell_type": "code",
      "source": [
        "print(classification_report(y_test,y_pred))"
      ],
      "metadata": {
        "colab": {
          "base_uri": "https://localhost:8080/"
        },
        "id": "W_ZIHudsVXK_",
        "outputId": "9c6958c2-a0ea-46bc-d422-9557dab83f1c"
      },
      "execution_count": null,
      "outputs": [
        {
          "output_type": "stream",
          "name": "stdout",
          "text": [
            "              precision    recall  f1-score   support\n",
            "\n",
            "           0       0.85      0.98      0.91       640\n",
            "           1       0.42      0.07      0.12       115\n",
            "\n",
            "    accuracy                           0.84       755\n",
            "   macro avg       0.64      0.53      0.52       755\n",
            "weighted avg       0.79      0.84      0.79       755\n",
            "\n"
          ]
        }
      ]
    },
    {
      "cell_type": "code",
      "source": [
        "# array([[617,   8],\n",
        "#        [128,   2]])"
      ],
      "metadata": {
        "id": "OB-qtm3gT-jh"
      },
      "execution_count": null,
      "outputs": []
    },
    {
      "cell_type": "markdown",
      "source": [
        "3.<h3>Under Sampling"
      ],
      "metadata": {
        "id": "uKqvF10HT2n8"
      }
    },
    {
      "cell_type": "markdown",
      "source": [],
      "metadata": {
        "id": "SJ9An7w-VdX8"
      }
    },
    {
      "cell_type": "code",
      "source": [
        "from imblearn.under_sampling import NearMiss\n",
        "from collections import Counter"
      ],
      "metadata": {
        "id": "2irWtUkxT1oG"
      },
      "execution_count": null,
      "outputs": []
    },
    {
      "cell_type": "code",
      "source": [
        "nr=NearMiss(0.8)\n",
        "x_train_nr,y_train_nr=nr.fit_resample(x_train,y_train)\n",
        "print(\"no of classes before fit {}\".format(Counter(y_train)))\n",
        "print(\"no of classes before fit {}\".format(Counter(y_train_nr)))"
      ],
      "metadata": {
        "id": "H-alKuZZTp9N",
        "colab": {
          "base_uri": "https://localhost:8080/"
        },
        "outputId": "34faad20-59ee-4075-9ea9-eeac343cffb6"
      },
      "execution_count": null,
      "outputs": [
        {
          "output_type": "stream",
          "name": "stdout",
          "text": [
            "no of classes before fit Counter({0: 2560, 1: 459})\n",
            "no of classes before fit Counter({0: 573, 1: 459})\n"
          ]
        },
        {
          "output_type": "stream",
          "name": "stderr",
          "text": [
            "/usr/local/lib/python3.7/dist-packages/imblearn/utils/_validation.py:591: FutureWarning: Pass sampling_strategy=0.8 as keyword args. From version 0.9 passing these as positional arguments will result in an error\n",
            "  FutureWarning,\n"
          ]
        }
      ]
    },
    {
      "cell_type": "code",
      "source": [
        "rf=RandomForestClassifier()\n",
        "rf.fit(x_train_nr,y_train_nr)\n",
        "y_pred_nr=rf.predict(x_test)"
      ],
      "metadata": {
        "id": "UmHXO_TOVjWQ"
      },
      "execution_count": null,
      "outputs": []
    },
    {
      "cell_type": "code",
      "source": [
        "confusion_matrix(y_test,y_pred_nr)"
      ],
      "metadata": {
        "colab": {
          "base_uri": "https://localhost:8080/"
        },
        "id": "O79zOX2HcikU",
        "outputId": "4f6c18fc-8cad-40a0-c0c6-7394c05fc122"
      },
      "execution_count": null,
      "outputs": [
        {
          "output_type": "execute_result",
          "data": {
            "text/plain": [
              "array([[297, 343],\n",
              "       [ 36,  79]])"
            ]
          },
          "metadata": {},
          "execution_count": 44
        }
      ]
    },
    {
      "cell_type": "code",
      "source": [
        "print(classification_report(y_test,y_pred_nr))"
      ],
      "metadata": {
        "colab": {
          "base_uri": "https://localhost:8080/"
        },
        "id": "hkkiKzVAdJZY",
        "outputId": "c8e636de-d164-4b6f-8074-82533212807d"
      },
      "execution_count": null,
      "outputs": [
        {
          "output_type": "stream",
          "name": "stdout",
          "text": [
            "              precision    recall  f1-score   support\n",
            "\n",
            "           0       0.89      0.46      0.61       640\n",
            "           1       0.19      0.69      0.29       115\n",
            "\n",
            "    accuracy                           0.50       755\n",
            "   macro avg       0.54      0.58      0.45       755\n",
            "weighted avg       0.78      0.50      0.56       755\n",
            "\n"
          ]
        }
      ]
    },
    {
      "cell_type": "markdown",
      "source": [
        "<h3>Over Sampling"
      ],
      "metadata": {
        "id": "9AKKhpY8dVH9"
      }
    },
    {
      "cell_type": "code",
      "source": [
        "from imblearn.over_sampling import RandomOverSampler\n",
        "\n",
        "ros=RandomOverSampler(sampling_strategy=0.8)\n",
        "x_train_ros,y_train_ros=ros.fit_resample(x_train,y_train)\n",
        "print(\"no of classes before fit {}\".format(Counter(y_train)))\n",
        "print(\"no of classes before fit {}\".format(Counter(y_train_ros)))"
      ],
      "metadata": {
        "colab": {
          "base_uri": "https://localhost:8080/"
        },
        "id": "uHVIPi8RdQlg",
        "outputId": "cdafb06a-bb8c-4b4a-dc34-00e7f43be670"
      },
      "execution_count": null,
      "outputs": [
        {
          "output_type": "stream",
          "name": "stdout",
          "text": [
            "no of classes before fit Counter({0: 2560, 1: 459})\n",
            "no of classes before fit Counter({0: 2560, 1: 2048})\n"
          ]
        }
      ]
    },
    {
      "cell_type": "code",
      "source": [
        "rf.fit(x_train_ros,y_train_ros)\n",
        "y_pred_ros=rf.predict(x_test)"
      ],
      "metadata": {
        "id": "i3IRuXzGeTft"
      },
      "execution_count": null,
      "outputs": []
    },
    {
      "cell_type": "code",
      "source": [
        "confusion_matrix(y_test,y_pred_ros)\n",
        "# array([[295, 345],\n",
        "#        [ 37,  78]])"
      ],
      "metadata": {
        "colab": {
          "base_uri": "https://localhost:8080/"
        },
        "id": "QyQgXC0CebgF",
        "outputId": "f882a336-eac8-4a54-8ae2-62b99d3a4343"
      },
      "execution_count": null,
      "outputs": [
        {
          "output_type": "execute_result",
          "data": {
            "text/plain": [
              "array([[612,  28],\n",
              "       [ 99,  16]])"
            ]
          },
          "metadata": {},
          "execution_count": 48
        }
      ]
    },
    {
      "cell_type": "code",
      "source": [
        "print(classification_report(y_test,y_pred_ros))"
      ],
      "metadata": {
        "colab": {
          "base_uri": "https://localhost:8080/"
        },
        "id": "EjizgJQme8k3",
        "outputId": "b69a4c75-6e6d-4e4a-ebfe-8021c7851a43"
      },
      "execution_count": null,
      "outputs": [
        {
          "output_type": "stream",
          "name": "stdout",
          "text": [
            "              precision    recall  f1-score   support\n",
            "\n",
            "           0       0.86      0.96      0.91       640\n",
            "           1       0.36      0.14      0.20       115\n",
            "\n",
            "    accuracy                           0.83       755\n",
            "   macro avg       0.61      0.55      0.55       755\n",
            "weighted avg       0.79      0.83      0.80       755\n",
            "\n"
          ]
        }
      ]
    },
    {
      "cell_type": "markdown",
      "source": [
        "<h3>SMOTE"
      ],
      "metadata": {
        "id": "rinr1lilfnwM"
      }
    },
    {
      "cell_type": "code",
      "source": [
        "from imblearn.combine import SMOTETomek\n",
        "from imblearn.over_sampling import SMOTE"
      ],
      "metadata": {
        "id": "xpR3Vw8cfmNS"
      },
      "execution_count": null,
      "outputs": []
    },
    {
      "cell_type": "code",
      "source": [
        "smt=SMOTETomek(0.8)\n",
        "x_train_smt,y_train_smt=smt.fit_resample(x_train,y_train)\n",
        "print(\" SMOTETomek no of classes before fit {}\".format(Counter(y_train)))\n",
        "print(\" SMOTETomek no of classes before fit {}\".format(Counter(y_train_smt)))\n",
        "\n",
        "\n",
        "sm=SMOTE(0.8)\n",
        "x_train_sm,y_train_sm=sm.fit_resample(x_train,y_train)\n",
        "print(\" SMOTETomek no of classes before fit {}\".format(Counter(y_train)))\n",
        "print(\" SMOTETomek no of classes before fit {}\".format(Counter(y_train_sm)))\n",
        "\n"
      ],
      "metadata": {
        "colab": {
          "base_uri": "https://localhost:8080/"
        },
        "id": "ynhhipMUfjoY",
        "outputId": "c9e48e64-0dbf-49a3-a6a1-937ad1215ecd"
      },
      "execution_count": null,
      "outputs": [
        {
          "output_type": "stream",
          "name": "stderr",
          "text": [
            "/usr/local/lib/python3.7/dist-packages/imblearn/utils/_validation.py:591: FutureWarning: Pass sampling_strategy=0.8 as keyword args. From version 0.9 passing these as positional arguments will result in an error\n",
            "  FutureWarning,\n"
          ]
        },
        {
          "output_type": "stream",
          "name": "stdout",
          "text": [
            " SMOTETomek no of classes before fit Counter({0: 2560, 1: 459})\n",
            " SMOTETomek no of classes before fit Counter({0: 2526, 1: 2014})\n",
            " SMOTETomek no of classes before fit Counter({0: 2560, 1: 459})\n",
            " SMOTETomek no of classes before fit Counter({0: 2560, 1: 2048})\n"
          ]
        },
        {
          "output_type": "stream",
          "name": "stderr",
          "text": [
            "/usr/local/lib/python3.7/dist-packages/imblearn/utils/_validation.py:591: FutureWarning: Pass sampling_strategy=0.8 as keyword args. From version 0.9 passing these as positional arguments will result in an error\n",
            "  FutureWarning,\n"
          ]
        }
      ]
    },
    {
      "cell_type": "code",
      "source": [
        "from sklearn.metrics import f1_score\n",
        "rf.fit(x_train_smt,y_train_smt)\n",
        "y_pred_smt=rf.predict(x_test)\n",
        "print(confusion_matrix(y_test,y_pred_smt))\n",
        "print(classification_report(y_test,y_pred_smt))\n",
        "print(f1_score(y_test,y_pred_smt))"
      ],
      "metadata": {
        "colab": {
          "base_uri": "https://localhost:8080/"
        },
        "id": "OYxrnFQugBz6",
        "outputId": "61752f14-e165-48cb-941b-a170fd6e0c1d"
      },
      "execution_count": null,
      "outputs": [
        {
          "output_type": "stream",
          "name": "stdout",
          "text": [
            "[[552  88]\n",
            " [ 92  23]]\n",
            "              precision    recall  f1-score   support\n",
            "\n",
            "           0       0.86      0.86      0.86       640\n",
            "           1       0.21      0.20      0.20       115\n",
            "\n",
            "    accuracy                           0.76       755\n",
            "   macro avg       0.53      0.53      0.53       755\n",
            "weighted avg       0.76      0.76      0.76       755\n",
            "\n",
            "0.20353982300884957\n"
          ]
        }
      ]
    },
    {
      "cell_type": "code",
      "source": [
        "rf.fit(x_train_sm,y_train_sm)\n",
        "y_pred_sm=rf.predict(x_test)\n",
        "print(confusion_matrix(y_test,y_pred_sm))\n",
        "print(classification_report(y_test,y_pred_sm))"
      ],
      "metadata": {
        "colab": {
          "base_uri": "https://localhost:8080/"
        },
        "id": "dcvKhMCnh1mG",
        "outputId": "6f5bd969-9738-434e-a2b1-b84b4cdd2646"
      },
      "execution_count": null,
      "outputs": [
        {
          "output_type": "stream",
          "name": "stdout",
          "text": [
            "[[557  83]\n",
            " [ 97  18]]\n",
            "              precision    recall  f1-score   support\n",
            "\n",
            "           0       0.85      0.87      0.86       640\n",
            "           1       0.18      0.16      0.17       115\n",
            "\n",
            "    accuracy                           0.76       755\n",
            "   macro avg       0.51      0.51      0.51       755\n",
            "weighted avg       0.75      0.76      0.76       755\n",
            "\n"
          ]
        }
      ]
    },
    {
      "cell_type": "markdown",
      "source": [
        "<h1>PIPELINE"
      ],
      "metadata": {
        "id": "tZfwbyEBnD1p"
      }
    },
    {
      "cell_type": "code",
      "source": [
        "# from sklearn.model_selection import train_test_split\n",
        "from sklearn.preprocessing import StandardScaler\n",
        "from sklearn.decomposition import PCA\n",
        "from sklearn.pipeline import Pipeline\n",
        "# from sklearn.linear_model import LogisticRegression\n",
        "from sklearn.tree import DecisionTreeClassifier\n",
        "# from sklearn.ensemble import RandomForestClassifier"
      ],
      "metadata": {
        "id": "OWiVywETiQ-v"
      },
      "execution_count": null,
      "outputs": []
    },
    {
      "cell_type": "code",
      "source": [
        "pipeline_lr=Pipeline([('scaler1',StandardScaler()),\n",
        "              ('pca1',PCA(n_components=2)),\n",
        "              ('lr_classifier',LogisticRegression())])"
      ],
      "metadata": {
        "id": "ShbQEmvjoMkj"
      },
      "execution_count": null,
      "outputs": []
    },
    {
      "cell_type": "code",
      "source": [
        "pipeline_dt=Pipeline([('scaler2',StandardScaler()),\n",
        "              ('pca2',PCA(n_components=2)),\n",
        "              ('dt_classifier',DecisionTreeClassifier())])"
      ],
      "metadata": {
        "id": "IcJkhjF6oTk8"
      },
      "execution_count": null,
      "outputs": []
    },
    {
      "cell_type": "code",
      "source": [
        "pipeline_rf=Pipeline([('scalar3',StandardScaler()),\n",
        "                     ('pca3',PCA(n_components=2)),\n",
        "                     ('rf_classifier',RandomForestClassifier())])"
      ],
      "metadata": {
        "id": "iSBnMt4FoWmO"
      },
      "execution_count": null,
      "outputs": []
    },
    {
      "cell_type": "code",
      "source": [
        "pipelines=[pipeline_lr,pipeline_dt,pipeline_rf]\n",
        "classifiers={0:'Logistic Regression',1:'Decision Tree',2:'Random Forest'}"
      ],
      "metadata": {
        "id": "sKqF7sjKpDtP"
      },
      "execution_count": null,
      "outputs": []
    },
    {
      "cell_type": "code",
      "source": [
        "for pipe in pipelines:\n",
        "  pipe.fit(x_train,y_train)"
      ],
      "metadata": {
        "id": "zIMnekT4pOFZ"
      },
      "execution_count": null,
      "outputs": []
    },
    {
      "cell_type": "code",
      "source": [
        "best_accuracy=0.0\n",
        "best_classifier=0\n",
        "best_pipeline=\"\""
      ],
      "metadata": {
        "id": "IdH_njBnp4qx"
      },
      "execution_count": null,
      "outputs": []
    },
    {
      "cell_type": "code",
      "source": [
        "for i,model in enumerate(pipelines):\n",
        "  print(\"{} Test Accuracy: {}\".format(classifiers[i],model.score(x_test,y_test)))\n",
        "  if model.score(x_test,y_test)>best_accuracy:\n",
        "    best_accuracy=model.score(x_test,y_test)\n",
        "    best_pipeline=model\n",
        "    best_classifier=classifiers[i]\n",
        "print('Classifier with best accuracy:{}'.format(best_classifier))"
      ],
      "metadata": {
        "colab": {
          "base_uri": "https://localhost:8080/"
        },
        "id": "1jzy5AT_qDuF",
        "outputId": "40116e41-3a6c-4fb0-d07a-6a132c313cbd"
      },
      "execution_count": null,
      "outputs": [
        {
          "output_type": "stream",
          "name": "stdout",
          "text": [
            "Logistic Regression Test Accuracy: 0.8503311258278146\n",
            "Decision Tree Test Accuracy: 0.7403973509933774\n",
            "Random Forest Test Accuracy: 0.8158940397350993\n",
            "Classifier with best accuracy:Logistic Regression\n"
          ]
        }
      ]
    },
    {
      "cell_type": "code",
      "source": [],
      "metadata": {
        "id": "XCs8emTgsIU4"
      },
      "execution_count": null,
      "outputs": []
    }
  ]
}